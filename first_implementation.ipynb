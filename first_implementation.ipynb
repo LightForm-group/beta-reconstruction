{
 "cells": [
  {
   "cell_type": "markdown",
   "metadata": {},
   "source": [
    "## Reconstruction algorithm"
   ]
  },
  {
   "cell_type": "markdown",
   "metadata": {},
   "source": [
    "[1] M. Humbert, F. Wagner, H. Moustahfid, and C. Esling, “Determination of the Orientation of a Parent β Grain from the Orientations of the Inherited α Plates in the Phase Transformation from Body-Centred Cubic to Hexagonal Close Packed,” J. Appl. Crystallogr., vol. 28, pp. 571–576, 1995."
   ]
  },
  {
   "cell_type": "code",
   "execution_count": 2,
   "metadata": {},
   "outputs": [],
   "source": [
    "import numpy as np\n",
    "import matplotlib.pyplot as plt\n",
    "\n",
    "from defdap.quat import Quat\n",
    "import defdap.ebsd as ebsd\n",
    "\n",
    "from defdap.plotting import PolePlot, MapPlot\n",
    "\n",
    "%matplotlib qt"
   ]
  },
  {
   "cell_type": "markdown",
   "metadata": {},
   "source": [
    "### Load in EBSD file, find grains and calculate grain average orientaions"
   ]
  },
  {
   "cell_type": "code",
   "execution_count": 4,
   "metadata": {},
   "outputs": [
    {
     "name": "stdout",
     "output_type": "stream",
     "text": [
      "Loaded EBSD data (dimensions: 285 x 276 pixels, step size: 5.0 um)\n",
      "Done                                               "
     ]
    }
   ],
   "source": [
    "dropboxPath = \"/Users/mbcx9ma4/Dropbox (The University of Manchester)/Beta Reconstruction/\"\n",
    "EbsdFilePath = dropboxPath + \"data/triple_point/ZrNb_triplepoint_alpha\"\n",
    "# EbsdFilePath = dropboxPath + \"data/large/ZrNb_large_alpha\"\n",
    "\n",
    "EbsdMap = ebsd.Map(EbsdFilePath, \"hexagonal\")\n",
    "EbsdMap.buildQuatArray()\n",
    "\n",
    "EbsdMap.findBoundaries(boundDef=8)\n",
    "EbsdMap.findGrains(minGrainSize=3)\n",
    "\n",
    "EbsdMap.calcGrainAvOris()"
   ]
  },
  {
   "cell_type": "code",
   "execution_count": 5,
   "metadata": {},
   "outputs": [
    {
     "data": {
      "text/plain": [
       "<defdap.plotting.MapPlot at 0x1c2904ac90>"
      ]
     },
     "execution_count": 5,
     "metadata": {},
     "output_type": "execute_result"
    },
    {
     "name": "stdout",
     "output_type": "stream",
     "text": [
      "Grain ID: 903\n",
      "Grain ID: 797\n",
      "Grain ID: 903\n",
      "Grain ID: 1350\n",
      "Grain ID: 903\n",
      "Grain ID: 1180\n",
      "Grain ID: 903\n",
      "Grain ID: 891\n",
      "Grain ID: 870\n",
      "Grain ID: 781\n",
      "Grain ID: 903\n",
      "Grain ID: 821\n"
     ]
    }
   ],
   "source": [
    "EbsdMap.locateGrainID(plotGBs=True)"
   ]
  },
  {
   "cell_type": "code",
   "execution_count": 7,
   "metadata": {},
   "outputs": [
    {
     "data": {
      "text/plain": [
       "<defdap.plotting.MapPlot at 0x1c2935bf10>"
      ]
     },
     "execution_count": 7,
     "metadata": {},
     "output_type": "execute_result"
    }
   ],
   "source": [
    "EbsdMap.plotGrainMap()"
   ]
  },
  {
   "cell_type": "code",
   "execution_count": 8,
   "metadata": {},
   "outputs": [],
   "source": [
    "EbsdMap.buildNeighbourNetwork()"
   ]
  },
  {
   "cell_type": "code",
   "execution_count": 12,
   "metadata": {},
   "outputs": [
    {
     "data": {
      "text/plain": [
       "<defdap.plotting.MapPlot at 0x1c2b1d9850>"
      ]
     },
     "execution_count": 12,
     "metadata": {},
     "output_type": "execute_result"
    }
   ],
   "source": [
    "EbsdMap.displayNeighbours()"
   ]
  },
  {
   "cell_type": "markdown",
   "metadata": {},
   "source": [
    "### Construct subset of symmetries and the Burger transformation"
   ]
  },
  {
   "cell_type": "code",
   "execution_count": 9,
   "metadata": {},
   "outputs": [],
   "source": [
    "hexSymms = Quat.symEqv(\"hexagonal\")\n",
    "hexFundSymms = [\n",
    "    hexSymms[0],\n",
    "    hexSymms[5],\n",
    "    hexSymms[4],\n",
    "    hexSymms[2],\n",
    "    hexSymms[10],\n",
    "    hexSymms[11]\n",
    "]\n",
    "\n",
    "cubicSymms = Quat.symEqv(\"cubic\")\n",
    "cubicFundSymms = [\n",
    "    cubicSymms[0],\n",
    "    cubicSymms[7],\n",
    "    cubicSymms[9],\n",
    "    cubicSymms[1],\n",
    "    cubicSymms[22],\n",
    "    cubicSymms[16],\n",
    "    cubicSymms[12],\n",
    "    cubicSymms[15],\n",
    "    cubicSymms[4],\n",
    "    cubicSymms[8],\n",
    "    cubicSymms[21],\n",
    "    cubicSymms[20]\n",
    "]\n",
    "\n",
    "# HCP -> BCC\n",
    "eulers = np.array([135., 90., 354.74])*np.pi/180.\n",
    "burgersQuat = Quat(*eulers)\n",
    "burgersQuat = burgersQuat.conjugate"
   ]
  },
  {
   "cell_type": "markdown",
   "metadata": {},
   "source": [
    "### Calculate possible beta orientations for each grain"
   ]
  },
  {
   "cell_type": "code",
   "execution_count": 10,
   "metadata": {},
   "outputs": [],
   "source": [
    "for grain in EbsdMap:\n",
    "    grain.betaOris = []\n",
    "\n",
    "    for symm in hexFundSymms:\n",
    "        grain.betaOris.append(burgersQuat * symm.conjugate * grain.refOri)\n"
   ]
  },
  {
   "cell_type": "markdown",
   "metadata": {},
   "source": [
    "### Calculate possible beta orientations from misorientations between each grain adn its neighbours"
   ]
  },
  {
   "cell_type": "code",
   "execution_count": 29,
   "metadata": {},
   "outputs": [
    {
     "name": "stdout",
     "output_type": "stream",
     "text": [
      " Grain number 2061 of 2070453.3097519874573\n"
     ]
    }
   ],
   "source": [
    "import time\n",
    "start = time.time()\n",
    "\n",
    "\n",
    "maxDevFromBurgers = 5    # in degrees\n",
    "\n",
    "\n",
    "cubicSymComps = np.empty((4, len(cubicFundSymms)))\n",
    "for i, cubicSymm in enumerate(cubicFundSymms):\n",
    "    cubicSymComps[:, i] = cubicSymm.quatCoef\n",
    "    \n",
    "\n",
    "# grainID = 479\n",
    "# grainID = 457\n",
    "# grain = EbsdMap[grainID]\n",
    "\n",
    "numGrains = len(EbsdMap)\n",
    "for grainID, grain in enumerate(EbsdMap):\n",
    "# if True:\n",
    "    if grainID % 10 == 0:\n",
    "        print(\"\\r Grain number {} of {}\".format(grainID+1, numGrains), end=\"\")\n",
    "    \n",
    "    grain.possibleBetaOris = []\n",
    "    grain.betaDeviations = []\n",
    "\n",
    "    neighbourIDs = list(EbsdMap.neighbourNetwork.neighbors(grainID))\n",
    "    neighbourGrains = [EbsdMap[i] for i in neighbourIDs]\n",
    "    \n",
    "    grainInvOri = grain.refOri.conjugate\n",
    "    \n",
    "    for neighbourID, neighbourGrain in zip(neighbourIDs, neighbourGrains):\n",
    "#         if neighbourID != 479:\n",
    "#             continue\n",
    "        \n",
    "        neighbourGrainOri = neighbourGrain.refOri\n",
    "        \n",
    "        a2a1inv = neighbourGrainOri * grainInvOri\n",
    "        \n",
    "        mis144 = np.zeros((12, 12))\n",
    "        RCS144 = np.zeros((12, 12), dtype=int)\n",
    "        \n",
    "        # calculate all posible S^B_m (eqn 11. from [1]) from the measured misorientation from 2 neighbour alpha grains\n",
    "        # for each S^B_m calculate the 'closest' cubic symmetry (from subset) and the deviation from this symmetry\n",
    "        for i, hexSymm in enumerate(hexSymms):\n",
    "            dummy = a2a1inv * hexSymm\n",
    "\n",
    "            for j, hexSymm2 in enumerate(hexSymms):\n",
    "                Bvariant = burgersQuat * ((hexSymm2.conjugate * dummy) * burgersQuat.conjugate)\n",
    "                \n",
    "                misOris = np.einsum(\"ij,i->j\", cubicSymComps, Bvariant.quatCoef)\n",
    "                \n",
    "#                 misOris = []\n",
    "#                 for cubicSymm in cubicFundSymms:                    \n",
    "#                     misOri = Bvariant.dot(cubicSymm)\n",
    "#                     misOris.append(misOri)    \n",
    "#                 misOris = np.abs(np.array(misOris))\n",
    "\n",
    "                misOris = np.abs(misOris)\n",
    "                misOris[misOris > 1] = 1.\n",
    "                misOris = 2 * np.arccos(misOris) * 180 / np.pi\n",
    "                \n",
    "                minMisOriIdx = np.argmin(misOris)\n",
    "                mis144[i, j] = misOris[minMisOriIdx]\n",
    "                RCS144[i, j] = minMisOriIdx\n",
    "        \n",
    "        # find the hex symmetries (i, j) from give the minimum deviation from the burgers relation\n",
    "        # for the minimum store: the deviation, the hex symmetries (i, j) and the cubic symmetry\n",
    "        # if the deviation is over a threshold then set cubic symmetry to -1\n",
    "        minMisOriIdx = np.unravel_index(np.argmin(mis144), mis144.shape)\n",
    "        devFromBurgers = mis144[minMisOriIdx]\n",
    "        cubicSymmIndx = RCS144[minMisOriIdx] if devFromBurgers < maxDevFromBurgers else -1\n",
    "        a1Symm = minMisOriIdx[0]\n",
    "        a2Symm = minMisOriIdx[1]\n",
    "#         print(devFromBurgers, cubicSymmIndx)\n",
    "\n",
    "#         with np.printoptions(precision=2, suppress=True, linewidth=100):\n",
    "#             print(minMisOriIdx)\n",
    "#             print(mis144)\n",
    "#             print(devFromBurgers)\n",
    "#             print(RCS144)\n",
    "#             print(cubicSymmIndx)\n",
    "#             print(\" \")\n",
    "\n",
    "        possibleBetaOris = []\n",
    "        if cubicSymmIndx > -1 and cubicSymmIndx < 9:\n",
    "            # one possible beta orientation\n",
    "            # A:\n",
    "            possibleBetaOris.append(\n",
    "                burgersQuat * hexSymms[a1Symm].conjugate * grain.refOri\n",
    "            )\n",
    "            \n",
    "        elif cubicSymmIndx == 9:\n",
    "            # three possible beta orientation\n",
    "            # A:\n",
    "            possibleBetaOris.append(\n",
    "                burgersQuat * hexSymms[a1Symm].conjugate * grain.refOri\n",
    "            )\n",
    "            # B:\n",
    "            # hexFundSymms[1] is C^+_3z\n",
    "            possibleBetaOris.append(\n",
    "                burgersQuat * hexFundSymms[1].conjugate * hexSymms[a1Symm].conjugate * grain.refOri\n",
    "            )\n",
    "            # C:\n",
    "            # hexFundSymms[2] is C^+_6z\n",
    "            possibleBetaOris.append(\n",
    "                burgersQuat * hexFundSymms[2].conjugate * hexSymms[a1Symm].conjugate * grain.refOri\n",
    "            )\n",
    "            \n",
    "        elif cubicSymmIndx > 9:\n",
    "            # two possible beta orientation\n",
    "            # A:\n",
    "            possibleBetaOris.append(\n",
    "                burgersQuat * hexSymms[a1Symm].conjugate * grain.refOri\n",
    "            )\n",
    "            # D:\n",
    "            # hexFundSymms[4] is C'_22\n",
    "            possibleBetaOris.append(\n",
    "                burgersQuat * hexFundSymms[4].conjugate * hexSymms[a1Symm].conjugate * grain.refOri\n",
    "            )\n",
    "            \n",
    "        grain.possibleBetaOris.append(possibleBetaOris)\n",
    "        grain.betaDeviations.append(devFromBurgers)\n",
    "        \n",
    "#         print(grainID, neighbourID)\n",
    "#         print(possibleBetaOris)\n",
    "#         print(devFromBurgers)\n",
    "#         break\n",
    "        \n",
    "        \n",
    "    # do all the accounting stuff\n",
    "    oriTol = 3.  # in degrees\n",
    "    oriTol = np.cos(oriTol / 2 * np.pi / 180.)  # divide 2 because of 2* in misorientation\n",
    "\n",
    "    allPossibleBetaOris = [item for sublist in grain.possibleBetaOris for item in sublist]\n",
    "    uniqueBetaOris = []\n",
    "    countBetaOris = []\n",
    "    variantIndexes = []\n",
    "\n",
    "    for ori in allPossibleBetaOris:\n",
    "        found = False\n",
    "        for i, uniqueOri in enumerate(uniqueBetaOris):\n",
    "            misOri = ori.misOri(uniqueOri, \"cubic\")\n",
    "            if misOri > oriTol:\n",
    "                found = True\n",
    "                countBetaOris[i] += 1\n",
    "\n",
    "        if not found:\n",
    "            uniqueBetaOris.append(ori)\n",
    "            countBetaOris.append(1)\n",
    "\n",
    "            for i, betaVariant in enumerate(grain.betaOris):\n",
    "                misOri = ori.misOri(betaVariant, \"cubic\")\n",
    "                if misOri > oriTol:\n",
    "                    variantIndexes.append(i)\n",
    "                    break\n",
    "            else:\n",
    "                variantIndexes.append(-1)\n",
    "                print(\"Couldn't find beta variant. Grain {:}\".format(grainID))\n",
    "\n",
    "    variantCount = [0, 0, 0, 0, 0, 0]\n",
    "    for i in range(len(variantIndexes)):\n",
    "        if i > -1:\n",
    "            variantCount[variantIndexes[i]] = countBetaOris[i]\n",
    "\n",
    "    grain.variantCount = variantCount\n",
    "\n",
    "#     print(uniqueBetaOris)\n",
    "#     print(countBetaOris)\n",
    "#     print(variantIndexes)\n",
    "#     print(variantCount)\n",
    "\n",
    "\n",
    "end = time.time()\n",
    "print(end - start)"
   ]
  },
  {
   "cell_type": "code",
   "execution_count": 30,
   "metadata": {},
   "outputs": [
    {
     "name": "stdout",
     "output_type": "stream",
     "text": [
      "7.555162533124288\n"
     ]
    }
   ],
   "source": [
    "print((end - start) / 60)"
   ]
  },
  {
   "cell_type": "code",
   "execution_count": null,
   "metadata": {},
   "outputs": [],
   "source": [
    "7.73 min\n",
    "7.55 min"
   ]
  },
  {
   "cell_type": "code",
   "execution_count": null,
   "metadata": {},
   "outputs": [],
   "source": []
  },
  {
   "cell_type": "markdown",
   "metadata": {},
   "source": [
    "### Look at the data stored for each grain"
   ]
  },
  {
   "cell_type": "code",
   "execution_count": 34,
   "metadata": {},
   "outputs": [
    {
     "data": {
      "text/plain": [
       "<defdap.plotting.MapPlot at 0x1c39bed750>"
      ]
     },
     "execution_count": 34,
     "metadata": {},
     "output_type": "execute_result"
    },
    {
     "name": "stdout",
     "output_type": "stream",
     "text": [
      "Grain ID: 838\n"
     ]
    }
   ],
   "source": [
    "EbsdMap.locateGrainID()"
   ]
  },
  {
   "cell_type": "code",
   "execution_count": 31,
   "metadata": {},
   "outputs": [],
   "source": [
    "grain = EbsdMap[838]"
   ]
  },
  {
   "cell_type": "code",
   "execution_count": 1,
   "metadata": {},
   "outputs": [
    {
     "ename": "NameError",
     "evalue": "name 'grain' is not defined",
     "output_type": "error",
     "traceback": [
      "\u001b[0;31m---------------------------------------------------------------------------\u001b[0m",
      "\u001b[0;31mNameError\u001b[0m                                 Traceback (most recent call last)",
      "\u001b[0;32m<ipython-input-1-a078a19d89c6>\u001b[0m in \u001b[0;36m<module>\u001b[0;34m\u001b[0m\n\u001b[0;32m----> 1\u001b[0;31m \u001b[0mgrain\u001b[0m\u001b[0;34m.\u001b[0m\u001b[0mbetaOris\u001b[0m\u001b[0;34m\u001b[0m\u001b[0;34m\u001b[0m\u001b[0m\n\u001b[0m",
      "\u001b[0;31mNameError\u001b[0m: name 'grain' is not defined"
     ]
    }
   ],
   "source": [
    "grain.betaOris"
   ]
  },
  {
   "cell_type": "code",
   "execution_count": 33,
   "metadata": {},
   "outputs": [
    {
     "data": {
      "text/plain": [
       "[[[0.4611, -0.8264, 0.3052, 0.1062]],\n",
       " [[0.4611, -0.8264, 0.3052, 0.1062]],\n",
       " [[0.5921, 0.0287, -0.8046, -0.0348], [0.4611, -0.8264, 0.3052, 0.1062]]]"
      ]
     },
     "execution_count": 33,
     "metadata": {},
     "output_type": "execute_result"
    }
   ],
   "source": [
    "grain.possibleBetaOris"
   ]
  },
  {
   "cell_type": "code",
   "execution_count": 34,
   "metadata": {},
   "outputs": [
    {
     "data": {
      "text/plain": [
       "[1.8044684029575793, 0.9853812036538011, 1.283613169503778]"
      ]
     },
     "execution_count": 34,
     "metadata": {},
     "output_type": "execute_result"
    }
   ],
   "source": [
    "grain.betaDeviations"
   ]
  },
  {
   "cell_type": "code",
   "execution_count": 35,
   "metadata": {},
   "outputs": [
    {
     "data": {
      "text/plain": [
       "[0, 3, 0, 0, 0, 1]"
      ]
     },
     "execution_count": 35,
     "metadata": {},
     "output_type": "execute_result"
    }
   ],
   "source": [
    "grain.variantCount"
   ]
  },
  {
   "cell_type": "code",
   "execution_count": 36,
   "metadata": {},
   "outputs": [],
   "source": [
    "possibleBetaOris = [item for sublist in grain.possibleBetaOris for item in sublist]\n",
    "\n",
    "directions = [\n",
    "    np.array([1,0,0]), \n",
    "    np.array([0,1,0]), \n",
    "    np.array([0,0,1])\n",
    "]\n",
    "markerSize = 100\n",
    "\n",
    "fig, axes = plt.subplots(1, len(directions))\n",
    "\n",
    "for direction, ax in zip(directions, axes):\n",
    "    plot = Quat.plotIPF(grain.betaOris, direction, \"cubic\", marker='o', s=markerSize, fig=fig, ax=ax)\n",
    "    Quat.plotIPF(possibleBetaOris, direction, \"cubic\", s=markerSize, plot=plot)\n",
    "\n",
    "fig.tight_layout()"
   ]
  },
  {
   "cell_type": "markdown",
   "metadata": {},
   "source": [
    "### Find the most common variant for each grain and set this as the beta orientaion"
   ]
  },
  {
   "cell_type": "code",
   "execution_count": 37,
   "metadata": {},
   "outputs": [],
   "source": [
    "modeVariants = []\n",
    "parentBetaOris = []\n",
    "\n",
    "for grain in EbsdMap:\n",
    "#     modeVariant = np.argmax(grain.variantCount)\n",
    "#     parentBetaOri = grain.betaOris[modeVariant]\n",
    "    \n",
    "    variantCount = np.array(grain.variantCount)\n",
    "    modeVariant = np.where(variantCount == np.max(variantCount))[0]\n",
    "    if len(modeVariant) == 1:\n",
    "        modeVariant = modeVariant[0]\n",
    "        parentBetaOri = grain.betaOris[modeVariant]\n",
    "    else:\n",
    "        # multiple variants with same max\n",
    "        modeVariant = -1\n",
    "        parentBetaOri = Quat(1., 0., 0., 0.)\n",
    "    \n",
    "    modeVariants.append(modeVariant)\n",
    "    grain.modeVariant = modeVariant\n",
    "    parentBetaOris.append(parentBetaOri)\n",
    "    grain.parentBetaOri = parentBetaOri"
   ]
  },
  {
   "cell_type": "markdown",
   "metadata": {},
   "source": [
    "### Plot"
   ]
  },
  {
   "cell_type": "code",
   "execution_count": 32,
   "metadata": {},
   "outputs": [],
   "source": [
    "plot = EbsdMap.plotGrainDataMap(grainData=modeVariants, vmin=-1, vmax=5, cmap=\"Set1\")\n",
    "plot.addColourBar(\"mode variant\")"
   ]
  },
  {
   "cell_type": "code",
   "execution_count": 39,
   "metadata": {},
   "outputs": [],
   "source": [
    "directions = [\n",
    "    np.array([1,0,0]),\n",
    "    np.array([0,1,0]),\n",
    "    np.array([0,0,1])\n",
    "]\n",
    "\n",
    "fig, axes = plt.subplots(1, len(directions), figsize=(15,5))\n",
    "\n",
    "for ax, direction in zip(axes, directions):\n",
    "    betaGrainIPFColours = Quat.calcIPFcolours(parentBetaOris, direction, \"cubic\")\n",
    "\n",
    "    EbsdMap.plotGrainDataMap(grainData=betaGrainIPFColours, fig=fig, ax=ax)\n",
    "    \n",
    "fig.tight_layout()"
   ]
  },
  {
   "cell_type": "code",
   "execution_count": null,
   "metadata": {},
   "outputs": [],
   "source": []
  },
  {
   "cell_type": "code",
   "execution_count": null,
   "metadata": {},
   "outputs": [],
   "source": []
  }
 ],
 "metadata": {
  "kernelspec": {
   "display_name": "Python 3",
   "language": "python",
   "name": "python3"
  },
  "language_info": {
   "codemirror_mode": {
    "name": "ipython",
    "version": 3
   },
   "file_extension": ".py",
   "mimetype": "text/x-python",
   "name": "python",
   "nbconvert_exporter": "python",
   "pygments_lexer": "ipython3",
   "version": "3.7.6"
  }
 },
 "nbformat": 4,
 "nbformat_minor": 4
}
