{
 "cells": [
  {
   "cell_type": "markdown",
   "metadata": {},
   "source": [
    "# Example of beta reconstruction usage"
   ]
  },
  {
   "cell_type": "markdown",
   "metadata": {},
   "source": [
    "This notebook gives a basic example of how to do a beta reconstruction analysis."
   ]
  },
  {
   "cell_type": "code",
   "execution_count": null,
   "metadata": {},
   "outputs": [],
   "source": [
    "import numpy as np\n",
    "import matplotlib.pyplot as plt\n",
    "\n",
    "from defdap.quat import Quat\n",
    "import defdap.ebsd as ebsd\n",
    "from defdap.plotting import MapPlot\n",
    "\n",
    "from beta_reconstruction.reconstruction import (\n",
    "    do_reconstruction, load_map, assign_beta_variants, \n",
    "    construct_variant_map, construct_beta_quat_array, \n",
    "    create_beta_ebsd_map)\n",
    "\n",
    "%matplotlib qt"
   ]
  },
  {
   "cell_type": "markdown",
   "metadata": {},
   "source": [
    "## Load in EBSD file\n",
    "The `load_map` function will load the EBSD map from the specified file and\n",
    "do prerequisite calculations such as segmenting into grains constructing a\n",
    "neighbour network of how the grains inter-connect."
   ]
  },
  {
   "cell_type": "code",
   "execution_count": null,
   "metadata": {},
   "outputs": [],
   "source": [
    "ebsd_file_path = \"example_data/ZrNb_triplepoint.ctf\"\n",
    "\n",
    "boundary_tolerance = 3\n",
    "min_grain_size = 3\n",
    "\n",
    "ebsd_map = load_map(\n",
    "    ebsd_file_path,\n",
    "    boundary_tolerance=boundary_tolerance,\n",
    "    min_grain_size=min_grain_size\n",
    ")"
   ]
  },
  {
   "cell_type": "markdown",
   "metadata": {},
   "source": [
    "Set the $\\alpha$ and $\\beta$ phase ids for the loaded map. Check these with the names of the phases in the EBSD map."
   ]
  },
  {
   "cell_type": "code",
   "execution_count": null,
   "metadata": {},
   "outputs": [],
   "source": [
    "alpha_phase_id = 0\n",
    "beta_phase_id = 1\n",
    "\n",
    "print('alpha phase name: ', ebsd_map.phases[alpha_phase_id].name)\n",
    "print('beta phase name: ', ebsd_map.phases[beta_phase_id].name)"
   ]
  },
  {
   "cell_type": "markdown",
   "metadata": {},
   "source": [
    "## Plot EBSD map\n",
    "Plot the $\\alpha$ and $\\beta$ grain structure before reconstruction."
   ]
  },
  {
   "cell_type": "code",
   "execution_count": null,
   "metadata": {},
   "outputs": [],
   "source": [
    "ipf_dir = np.array([0, 0, 1])\n",
    "\n",
    "ebsd_map.plotIPFMap(ipf_dir, phases=[alpha_phase_id])\n",
    "ebsd_map.plotIPFMap(ipf_dir, phases=[beta_phase_id])"
   ]
  },
  {
   "cell_type": "markdown",
   "metadata": {
    "pycharm": {
     "name": "#%% md\n"
    }
   },
   "source": [
    "## Calculate possible beta orientations \n",
    "\n",
    "There is a relationship between the $\\alpha$ and $\\beta$ symmetries, such that for each alpha orientation there are 6 theoretically possible $\\beta$ orientations that the $\\alpha$ could have transformed from obeying the Burgers relationship.\n",
    "\n",
    "The set of 6 possible orientations can be narrowed down further (often to a unique solution) by also considering the orientations of neighbouring $\\alpha$ grains which are inherited from a single $\\beta$ grain. Being inherited from the same $\\beta$ grain restricts the possible neighbouring misorientation between different $\\alpha$ grains. In reverse, this means that the misorientations can be used to determine the prior $\\beta$ orientation."
   ]
  },
  {
   "cell_type": "code",
   "execution_count": null,
   "metadata": {},
   "outputs": [],
   "source": [
    "do_reconstruction(\n",
    "    ebsd_map,\n",
    "    burg_tol=5.,\n",
    "    ori_tol=3.,\n",
    "    alpha_phase_id=alpha_phase_id,\n",
    "    beta_phase_id=beta_phase_id\n",
    ")"
   ]
  },
  {
   "cell_type": "markdown",
   "metadata": {
    "pycharm": {
     "name": "#%% md\n"
    }
   },
   "source": [
    "## Find the most common variant for each grain and set this as the beta orientation\n",
    "\n",
    "Each $\\alpha$ grain will now contain an attribute with the number of votes for each of the 6 possible parent $\\beta$ orientations or variants. In the simplest interpretation of the variant counts we can consider the orientation of the parent $\\beta$ grain to be the mode variant. Where there are two variants with the same count we do not assign the an orientation."
   ]
  },
  {
   "cell_type": "code",
   "execution_count": null,
   "metadata": {},
   "outputs": [],
   "source": [
    "assign_beta_variants(ebsd_map, \"modal\", alpha_phase_id=alpha_phase_id)"
   ]
  },
  {
   "cell_type": "markdown",
   "metadata": {
    "pycharm": {
     "name": "#%% md\n"
    }
   },
   "source": [
    "## Visualise the results\n",
    "\n",
    "To reconstruct the $\\beta$ orientation map, the Burgers transformation associated with the $\\beta$ variant identified for each $\\alpha$ grain must be applied to each orientation/pixel in that grain. This is done in 2 stages. First a variant map is produced with each grain filled with the index of the identified beta variant (0-5). This variant map is then used with the unique hexagonal symmetries (with respect to the Burgers orientation relation) and the Burgers transformation to transform ever alpha orientation in the map."
   ]
  },
  {
   "cell_type": "code",
   "execution_count": null,
   "metadata": {},
   "outputs": [],
   "source": [
    "variant_map = construct_variant_map(ebsd_map, alpha_phase_id=alpha_phase_id)\n",
    "beta_quat_array = construct_beta_quat_array(ebsd_map, variant_map=variant_map)"
   ]
  },
  {
   "cell_type": "markdown",
   "metadata": {},
   "source": [
    "Create a function to plot an IPF map of the reconstructed $\\beta$ orientations and show grains that were not successfully reconstructed in white."
   ]
  },
  {
   "cell_type": "code",
   "execution_count": null,
   "metadata": {},
   "outputs": [],
   "source": [
    "def plot_beta(variant_map, beta_quat_array, direction, **kwargs):\n",
    "    beta_IPF_colours = Quat.calcIPFcolours(\n",
    "        beta_quat_array[variant_map >= 0],\n",
    "        direction, \n",
    "        \"cubic\"\n",
    "    ).T\n",
    "\n",
    "    map_colours = np.zeros(ebsd_map.shape + (3,))\n",
    "    map_colours[variant_map >= 0] = beta_IPF_colours\n",
    "    # recolour the -1 and -2 variants\n",
    "    # -1 grains not succesfully reconstructed (white)\n",
    "    # -2 clusters too small to be a grain and other phases (black)\n",
    "    map_colours[variant_map == -1] = np.array([1, 1, 1])\n",
    "    map_colours[variant_map == -2] = np.array([0, 0, 0])\n",
    "\n",
    "    return MapPlot.create(ebsd_map, map_colours, **kwargs)\n",
    "\n",
    "plot_beta(variant_map, beta_quat_array, np.array([0,0,1]))"
   ]
  },
  {
   "cell_type": "markdown",
   "metadata": {
    "pycharm": {
     "name": "#%% md\n"
    }
   },
   "source": [
    "## Explore the results\n",
    "\n",
    "The results are stored in the grain objects which comprise the EBSD map.\n",
    "\n",
    "If running with interactive plots the `locateGrainID()` function should plot an interactive EBSD map. Clicking on a grain will print the grain ID to the notebook cell. This grain ID can then be used to get information about the grain by subsetting the Map object with the grain ID."
   ]
  },
  {
   "cell_type": "code",
   "execution_count": null,
   "metadata": {
    "pycharm": {
     "name": "#%%\n"
    }
   },
   "outputs": [],
   "source": [
    "ebsd_map.locateGrainID()"
   ]
  },
  {
   "cell_type": "markdown",
   "metadata": {},
   "source": [
    "The reconstruction algorithm first calculates the 6 possible $\\beta$ orientations for the grain given its mean $\\alpha$ orientation. These are stored in the `beta_oris` attribute in the grain."
   ]
  },
  {
   "cell_type": "code",
   "execution_count": null,
   "metadata": {
    "pycharm": {
     "name": "#%%\n"
    }
   },
   "outputs": [],
   "source": [
    "grain_id = 8\n",
    "grain = ebsd_map[grain_id]\n",
    "grain.beta_oris"
   ]
  },
  {
   "cell_type": "markdown",
   "metadata": {},
   "source": [
    "The next step considering the misorientation between the grain and its neighbours yields a measure of the deviation from a perfect Burgers transformation if the two grains transformed from the same grain.  The deviation of each vote/neighbour is stored in the `beta_deviations` attribute. A tolerance for the maximum acceptable value of this deviation (`burg_tol`) is set when calling the `do_reconstruction()` method."
   ]
  },
  {
   "cell_type": "code",
   "execution_count": null,
   "metadata": {},
   "outputs": [],
   "source": [
    "np.array(grain.beta_deviations) *180 /np.pi"
   ]
  },
  {
   "cell_type": "markdown",
   "metadata": {},
   "source": [
    "The `possible_beta_oris` attribute stores the possible beta orientations of the parent $\\beta$ grain as a result of considering the misorientation relation between the neighbouring $\\alpha$ grains. There is one list of possible orientations for each neighbour."
   ]
  },
  {
   "cell_type": "code",
   "execution_count": null,
   "metadata": {},
   "outputs": [],
   "source": [
    "grain.possible_beta_oris"
   ]
  },
  {
   "cell_type": "markdown",
   "metadata": {},
   "source": [
    "The `possible_beta_oris` are then binned into one of the six `beta_oris` with a tolerance determined by the `ori_tol` variable passed to the `do_reconstruction()` method. This is essentially a vote on which parent $\\beta$ grain orientation is most likely. The `variant_count` attribute stores the counts for each possible beta orientation."
   ]
  },
  {
   "cell_type": "code",
   "execution_count": null,
   "metadata": {},
   "outputs": [],
   "source": [
    "grain.variant_count"
   ]
  },
  {
   "cell_type": "markdown",
   "metadata": {},
   "source": [
    "Finally, the `locateGrainID` method can be customised to use the `plot_beta` method created earlier, so grains of interest can be selected in the $\\beta$ orientation map. Further to this, a custom callback function `click_print_beta_info` can also be passed to `locateGrainID` so that the information printed to screen after clicking a grain can be customised."
   ]
  },
  {
   "cell_type": "code",
   "execution_count": null,
   "metadata": {},
   "outputs": [],
   "source": [
    "def click_print_beta_info(event, plot):\n",
    "    if event.inaxes is not plot.ax:\n",
    "        return\n",
    "    \n",
    "    # grain id of selected grain\n",
    "    currGrainId = int(plot.callingMap.grains[int(event.ydata), int(event.xdata)] - 1)\n",
    "    if currGrainId < 0:\n",
    "        return\n",
    "\n",
    "    # update the grain highlights layer in the plot\n",
    "    plot.addGrainHighlights([currGrainId], alpha=plot.callingMap.highlightAlpha)\n",
    "    \n",
    "    # Print beta info\n",
    "    grain = plot.callingMap[currGrainId]\n",
    "    print(\"Grain ID: {}\".format(currGrainId))\n",
    "    print(\"Phase name:\", grain.phase.name)\n",
    "    print(\"Possible beta oris:\", grain.possible_beta_oris)\n",
    "    print(\"Beta deviations\", np.rad2deg(grain.beta_deviations))\n",
    "    print(\"Variant count\", grain.variant_count)\n",
    "    print(\"Assigned variant\", grain.assigned_variant)\n",
    "    print()\n",
    "    \n",
    "# Assign the plotting function to use with `locateGrainID`\n",
    "ebsd_map.plotDefault = plot_beta\n",
    "                \n",
    "plot = ebsd_map.locateGrainID(\n",
    "    variant_map=variant_map, \n",
    "    beta_quat_array=beta_quat_array, \n",
    "    direction=np.array([0, 0, 1]), \n",
    "    clickEvent=click_print_beta_info\n",
    ")"
   ]
  },
  {
   "cell_type": "markdown",
   "metadata": {
    "pycharm": {
     "name": "#%% md\n"
    }
   },
   "source": [
    "## Create a new map of the reconstruction and save\n",
    "\n",
    "Mode can be:\n",
    "- 'alone': Only include the reconstructed beta\n",
    "- 'append': Append reconstructed beta to present beta phase\n",
    "- 'add': Create a new phase for reconstructed beta"
   ]
  },
  {
   "cell_type": "code",
   "execution_count": null,
   "metadata": {},
   "outputs": [],
   "source": [
    "ebsd_map_recon = create_beta_ebsd_map(\n",
    "    ebsd_map, \n",
    "    mode='alone', \n",
    "    beta_quat_array=beta_quat_array, \n",
    "    variant_map=variant_map, \n",
    "    alpha_phase_id=alpha_phase_id, \n",
    "    beta_phase_id=beta_phase_id\n",
    ")"
   ]
  },
  {
   "cell_type": "code",
   "execution_count": null,
   "metadata": {},
   "outputs": [],
   "source": [
    "ebsd_map_recon.save('recon_map')"
   ]
  },
  {
   "cell_type": "code",
   "execution_count": null,
   "metadata": {},
   "outputs": [],
   "source": []
  }
 ],
 "metadata": {
  "kernelspec": {
   "display_name": "Python 3",
   "language": "python",
   "name": "python3"
  },
  "language_info": {
   "codemirror_mode": {
    "name": "ipython",
    "version": 3
   },
   "file_extension": ".py",
   "mimetype": "text/x-python",
   "name": "python",
   "nbconvert_exporter": "python",
   "pygments_lexer": "ipython3",
   "version": "3.7.9"
  }
 },
 "nbformat": 4,
 "nbformat_minor": 4
}
