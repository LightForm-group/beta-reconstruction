{
 "cells": [
  {
   "cell_type": "markdown",
   "metadata": {},
   "source": [
    "# Example of beta reconstruction usage"
   ]
  },
  {
   "cell_type": "markdown",
   "metadata": {},
   "source": [
    "This notebook gives a basic example of how to do a beta reconstruction analysis."
   ]
  },
  {
   "cell_type": "code",
   "execution_count": null,
   "metadata": {},
   "outputs": [],
   "source": [
    "import numpy as np\n",
    "import matplotlib.pyplot as plt\n",
    "\n",
    "from defdap.quat import Quat\n",
    "\n",
    "from defdap.plotting import MapPlot\n",
    "\n",
    "from beta_reconstruction.reconstruction import do_reconstruction, load_map, assign_beta_variants\n",
    "\n",
    "%matplotlib qt"
   ]
  },
  {
   "cell_type": "markdown",
   "metadata": {},
   "source": [
    "## Load in EBSD file\n",
    "The `load_map` function will load the EBSD map from the specified file and\n",
    "do prerequisite calculations such as finding grains and grain boundaries and\n",
    "constructing a neighbour network of the grain boundaries."
   ]
  },
  {
   "cell_type": "code",
   "execution_count": null,
   "metadata": {},
   "outputs": [],
   "source": [
    "ebsd_file_path = \"example_data/ZrNb_triplepoint.ctf\"\n",
    "\n",
    "EbsdMap = load_map(ebsd_file_path)"
   ]
  },
  {
   "cell_type": "markdown",
   "metadata": {},
   "source": [
    "## Plot EBSD map\n",
    "We can plot the alpha grain structure before reconstruction."
   ]
  },
  {
   "cell_type": "code",
   "execution_count": null,
   "metadata": {},
   "outputs": [],
   "source": [
    "EbsdMap.plotEulerMap()"
   ]
  },
  {
   "cell_type": "markdown",
   "metadata": {
    "pycharm": {
     "name": "#%% md\n"
    }
   },
   "source": [
    "## Calculate possible beta orientations \n",
    "\n",
    "There is a relationship between the $\\alpha$ and $\\beta$ symmetries, such that for each alpha orientation there are 6 theoretically possible $\\beta$ orientations. This called the Burgers relationship.\n",
    "\n",
    "The set of 6 possible orientations can be narrowed down further (often to a unique solution) by also considering the orientations of neighbouring $\\alpha$ grains which are inherited from a single $\\beta$ grain. Being inheried from the same $\\beta$ grain restrict the possible neighbouring misorientation types between different $\\alpha$ grains. In reverse, this means that certain combinations of misorientations can be used to determine the prior $\\beta$ orientation."
   ]
  },
  {
   "cell_type": "code",
   "execution_count": null,
   "metadata": {},
   "outputs": [],
   "source": [
    "do_reconstruction(EbsdMap, burg_tol=5., ori_tol=3.)"
   ]
  },
  {
   "cell_type": "markdown",
   "metadata": {
    "pycharm": {
     "name": "#%% md\n"
    }
   },
   "source": [
    "The results are stored in the grain objects which comprise the EBSD map.\n",
    "\n",
    "If running with interactive plots the `locateGrainID()` function should plot an interactive EBSD map. Clicking on a grain will print the grain ID to the notebook cell. This grain ID can then be used to get information about the grain by subsetting the Map object with the grain ID."
   ]
  },
  {
   "cell_type": "code",
   "execution_count": null,
   "metadata": {
    "pycharm": {
     "name": "#%%\n"
    }
   },
   "outputs": [],
   "source": [
    "EbsdMap.locateGrainID()"
   ]
  },
  {
   "cell_type": "markdown",
   "metadata": {},
   "source": [
    "The reconstruction algorithm first calculates the 6 possible $\\beta$ orientations for the grain given its $\\alpha$ orientation. These are are stored in the `betaOris` variable."
   ]
  },
  {
   "cell_type": "code",
   "execution_count": null,
   "metadata": {
    "pycharm": {
     "name": "#%%\n"
    }
   },
   "outputs": [],
   "source": [
    "grain = EbsdMap[8]\n",
    "grain.betaOris"
   ]
  },
  {
   "cell_type": "markdown",
   "metadata": {},
   "source": [
    "The next step involves calculating the misorientation between the grain and its neighbours. This is stored in the `betaDeviations` variable. Neighbiouring grains are only conisdered if the misorientation between them and the grain is lower than the misorientation threshold set in the call to the `do_reconstruction()` method."
   ]
  },
  {
   "cell_type": "code",
   "execution_count": null,
   "metadata": {},
   "outputs": [],
   "source": [
    "np.array(grain.betaDeviations) *180 /np.pi"
   ]
  },
  {
   "cell_type": "markdown",
   "metadata": {},
   "source": [
    "The `possibleBetaOris` variable stores the possible beta orientations of the parent $\\beta$ grain as a result of considering the misorientation relation between the neighbouring $\\alpha$ grains. There is one list of possible orientations for each neighbour."
   ]
  },
  {
   "cell_type": "code",
   "execution_count": null,
   "metadata": {},
   "outputs": [],
   "source": [
    "grain.possibleBetaOris"
   ]
  },
  {
   "cell_type": "markdown",
   "metadata": {},
   "source": [
    "The `possibleBetaOris` are then binned into one of the six `betaOris` with a tolerance determined by the `ori_tol` variable passed to the `doReconstruction()` function. This is essentially a vote on which parent $\\beta$ grain orientation is most likely. The `variantCount` variable stores the counts for each possible beta orientation."
   ]
  },
  {
   "cell_type": "code",
   "execution_count": null,
   "metadata": {},
   "outputs": [],
   "source": [
    "grain.variantCount"
   ]
  },
  {
   "cell_type": "markdown",
   "metadata": {},
   "source": [
    "## Identification of the most likely $\\beta$ variant"
   ]
  },
  {
   "cell_type": "markdown",
   "metadata": {
    "pycharm": {
     "name": "#%% md\n"
    }
   },
   "source": [
    "We can now plot the six possible beta orientations on an ODF map. Those marked with a cross are those which have a non-zero variant count.\n",
    "\n",
    "**<font color=red>What does this tell us conceptually? Presumably it is relevant that all of the selected variants are proximate?</font>**"
   ]
  },
  {
   "cell_type": "code",
   "execution_count": null,
   "metadata": {
    "pycharm": {
     "name": "#%%\n"
    }
   },
   "outputs": [],
   "source": [
    "possibleBetaOris = [item for sublist in grain.possibleBetaOris for item in sublist]\n",
    "\n",
    "directions = [\n",
    "    np.array([1,0,0]), \n",
    "    np.array([0,1,0]), \n",
    "    np.array([0,0,1])\n",
    "]\n",
    "markerSize = 100\n",
    "\n",
    "fig, axes = plt.subplots(1, len(directions))\n",
    "\n",
    "for direction, ax in zip(directions, axes):\n",
    "    plot = Quat.plotIPF(grain.betaOris, direction, \"cubic\", marker='o', s=markerSize, fig=fig, ax=ax)\n",
    "    Quat.plotIPF(possibleBetaOris, direction, \"cubic\", s=markerSize,  plot=plot)\n",
    "\n",
    "fig.tight_layout()"
   ]
  },
  {
   "cell_type": "markdown",
   "metadata": {
    "pycharm": {
     "name": "#%% md\n"
    }
   },
   "source": [
    "## Find the most common variant for each grain and set this as the beta orientaion\n",
    "\n",
    "In the simplest interpretation of the variant counts we can consider the orientation of the parent $\\beta$ grain to be the mode variant. Where there are two variants with the same count we do not assign the orientation."
   ]
  },
  {
   "cell_type": "code",
   "execution_count": null,
   "metadata": {},
   "outputs": [],
   "source": [
    "EbsdMap = assign_beta_variants(EbsdMap, \"modal\")"
   ]
  },
  {
   "cell_type": "markdown",
   "metadata": {
    "pycharm": {
     "name": "#%% md\n"
    }
   },
   "source": [
    "## Plot variant map"
   ]
  },
  {
   "cell_type": "markdown",
   "metadata": {
    "pycharm": {
     "name": "#%% md\n"
    }
   },
   "source": [
    "Now we have assigned a the mode variant to each grain we can plot this as a map."
   ]
  },
  {
   "cell_type": "code",
   "execution_count": null,
   "metadata": {
    "pycharm": {
     "name": "#%%\n"
    }
   },
   "outputs": [],
   "source": [
    "modalVariants = [grain.modeVariant for grain in EbsdMap]\n",
    "\n",
    "plot = EbsdMap.plotGrainDataMap(grainData=modalVariants, vmin=-1, vmax=5, cmap=\"Set1\")\n",
    "plot.addColourBar(\"modal variant\")"
   ]
  },
  {
   "cell_type": "markdown",
   "metadata": {
    "pycharm": {
     "name": "#%% md\n"
    }
   },
   "source": [
    "## IPF of grains filled with average orientation\n",
    "\n",
    "<font color=red>I don't really understand what is going on in these last few cells - how the chosen beta varient is tranformed into orientations. Some of this probably needs to go into a function in the code file and then add a few words to explain here.</font>"
   ]
  },
  {
   "cell_type": "code",
   "execution_count": null,
   "metadata": {},
   "outputs": [],
   "source": [
    "parentBetaOris = [grain.parentBetaOri for grain in EbsdMap]\n",
    "\n",
    "directions = [\n",
    "    np.array([1,0,0]),\n",
    "    np.array([0,1,0]),\n",
    "    np.array([0,0,1])\n",
    "]\n",
    "\n",
    "fig, axes = plt.subplots(1, len(directions), figsize=(15,5))\n",
    "\n",
    "for ax, direction in zip(axes, directions):\n",
    "    betaGrainIPFColours = Quat.calcIPFcolours(parentBetaOris, direction, \"cubic\")\n",
    "\n",
    "    EbsdMap.plotGrainDataMap(grainData=betaGrainIPFColours, fig=fig, ax=ax)\n",
    "    \n",
    "fig.tight_layout()"
   ]
  },
  {
   "cell_type": "markdown",
   "metadata": {},
   "source": [
    "## Calculate and then plot beta orientation map"
   ]
  },
  {
   "cell_type": "code",
   "execution_count": null,
   "metadata": {},
   "outputs": [],
   "source": [
    "from beta_reconstruction.crystal_relations import unq_hex_syms, burg_trans\n",
    "\n",
    "transformations = []\n",
    "for sym in unq_hex_syms:\n",
    "    transformations.append(burg_trans * sym.conjugate)\n",
    "    \n",
    "variantMap = EbsdMap.grainDataToMapData(modeVariants, bg=-2)\n",
    "    \n",
    "betaQuatArray = np.empty_like(EbsdMap.quatArray)\n",
    "for i in range(EbsdMap.yDim):\n",
    "    for j in range(EbsdMap.xDim):\n",
    "        variant = variantMap[i, j]\n",
    "        if variant < 0:\n",
    "            # points not part of a grain (-2) and \n",
    "            # those that were not reconstructed (-1)\n",
    "            betaQuatArray[i, j] = Quat(1, 0, 0, 0)\n",
    "        else:\n",
    "#             betaQuatArray[i, j] = burg_trans * unq_hex_syms[variant].conjugate * EbsdMap.quatArray[i, j]\n",
    "            betaQuatArray[i, j] = transformations[variant] * EbsdMap.quatArray[i, j]"
   ]
  },
  {
   "cell_type": "code",
   "execution_count": null,
   "metadata": {
    "pycharm": {
     "name": "#%%\n"
    }
   },
   "outputs": [],
   "source": [
    "directions = [\n",
    "    np.array([1,0,0]),\n",
    "    np.array([0,1,0]),\n",
    "    np.array([0,0,1])\n",
    "]\n",
    "\n",
    "fig, axes = plt.subplots(1, len(directions), figsize=(15,5))\n",
    "\n",
    "for ax, direction in zip(axes, directions):\n",
    "    betaIPFColours = Quat.calcIPFcolours(betaQuatArray.flatten(), direction, \"cubic\")\n",
    "    # reshape back to map shape array\n",
    "    betaIPFColours = np.reshape(betaIPFColours, (EbsdMap.yDim, EbsdMap.xDim, 3))\n",
    "    \n",
    "    # recolour the -1 and -2 variants\n",
    "    # -1 grains not reconstructed (white)\n",
    "    # -2 clusters too small to be a grain (black)\n",
    "    indxs = np.where(variantMap == -1)\n",
    "    betaIPFColours[indxs[0], indxs[1]] = np.array([1, 1, 1])\n",
    "    indxs = np.where(variantMap == -2)\n",
    "    betaIPFColours[indxs[0], indxs[1]] = np.array([0, 0, 0])\n",
    "    \n",
    "    plot = MapPlot.create(EbsdMap, betaIPFColours, fig=fig, ax=ax)\n",
    "    \n",
    "fig.tight_layout()"
   ]
  }
 ],
 "metadata": {
  "kernelspec": {
   "display_name": "Python 3",
   "language": "python",
   "name": "python3"
  },
  "language_info": {
   "codemirror_mode": {
    "name": "ipython",
    "version": 3
   },
   "file_extension": ".py",
   "mimetype": "text/x-python",
   "name": "python",
   "nbconvert_exporter": "python",
   "pygments_lexer": "ipython3",
   "version": "3.7.2"
  }
 },
 "nbformat": 4,
 "nbformat_minor": 4
}
