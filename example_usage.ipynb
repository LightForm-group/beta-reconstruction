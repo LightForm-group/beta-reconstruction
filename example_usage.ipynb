{
 "cells": [
  {
   "cell_type": "markdown",
   "metadata": {},
   "source": [
    "## Testing notebook for beta reconstruction software"
   ]
  },
  {
   "cell_type": "markdown",
   "metadata": {},
   "source": [
    "For testing use the latest version of defdap on the grain_boundaies branch"
   ]
  },
  {
   "cell_type": "code",
   "execution_count": null,
   "metadata": {},
   "outputs": [],
   "source": [
    "import numpy as np\n",
    "import matplotlib.pyplot as plt\n",
    "import time\n",
    "\n",
    "from defdap.quat import Quat\n",
    "\n",
    "from defdap.plotting import MapPlot\n",
    "\n",
    "from beta_reconstruction.reconstruction import do_reconstruction, load_map\n",
    "\n",
    "%matplotlib notebook"
   ]
  },
  {
   "cell_type": "markdown",
   "metadata": {},
   "source": [
    "## Load in EBSD file\n",
    "The `load_map` function will load the EBSD map from the specified file and\n",
    "do prerequisite calculations such as finding grains and grain boundaries and\n",
    "constructing a neighbour network of the grain boundaries."
   ]
  },
  {
   "cell_type": "code",
   "execution_count": null,
   "metadata": {},
   "outputs": [],
   "source": [
    "ebsd_file_path = \"example_data/ZrNb_triplepoint.ctf\"\n",
    "\n",
    "EbsdMap = load_map(ebsd_file_path)"
   ]
  },
  {
   "cell_type": "markdown",
   "metadata": {
    "pycharm": {
     "name": "#%% md\n"
    }
   },
   "source": [
    "## Calculate possible beta orientations \n",
    "\n",
    "Possible beta orientations are calculated from the misorientations between each grain and its neighbours"
   ]
  },
  {
   "cell_type": "code",
   "execution_count": null,
   "metadata": {},
   "outputs": [],
   "source": [
    "do_reconstruction(EbsdMap, burg_tol=5., ori_tol=3.)"
   ]
  },
  {
   "cell_type": "markdown",
   "metadata": {
    "pycharm": {
     "name": "#%% md\n"
    }
   },
   "source": [
    "The results are stored in the grain objects which comprise the EBSD map."
   ]
  },
  {
   "cell_type": "code",
   "execution_count": null,
   "metadata": {
    "pycharm": {
     "name": "#%%\n"
    }
   },
   "outputs": [],
   "source": [
    "EbsdMap.locateGrainID()"
   ]
  },
  {
   "cell_type": "code",
   "execution_count": null,
   "metadata": {
    "pycharm": {
     "name": "#%%\n"
    }
   },
   "outputs": [],
   "source": [
    "grain = EbsdMap[8]"
   ]
  },
  {
   "cell_type": "code",
   "execution_count": null,
   "metadata": {
    "pycharm": {
     "name": "#%%\n"
    }
   },
   "outputs": [],
   "source": [
    "grain.betaOris"
   ]
  },
  {
   "cell_type": "code",
   "execution_count": null,
   "metadata": {},
   "outputs": [],
   "source": [
    "grain.possibleBetaOris"
   ]
  },
  {
   "cell_type": "code",
   "execution_count": null,
   "metadata": {},
   "outputs": [],
   "source": [
    "np.array(grain.betaDeviations) *180 /np.pi"
   ]
  },
  {
   "cell_type": "code",
   "execution_count": null,
   "metadata": {},
   "outputs": [],
   "source": [
    "grain.variantCount"
   ]
  },
  {
   "cell_type": "markdown",
   "metadata": {
    "pycharm": {
     "name": "#%% md\n"
    }
   },
   "source": [
    "burgers tol for each variant count - this will have to wait until we rewrtite the variant counting code"
   ]
  },
  {
   "cell_type": "code",
   "execution_count": null,
   "metadata": {
    "pycharm": {
     "name": "#%%\n"
    }
   },
   "outputs": [],
   "source": [
    "possibleBetaOris = [item for sublist in grain.possibleBetaOris for item in sublist]\n",
    "\n",
    "directions = [\n",
    "    np.array([1,0,0]), \n",
    "    np.array([0,1,0]), \n",
    "    np.array([0,0,1])\n",
    "]\n",
    "markerSize = 100\n",
    "\n",
    "fig, axes = plt.subplots(1, len(directions))\n",
    "\n",
    "for direction, ax in zip(directions, axes):\n",
    "    plot = Quat.plotIPF(grain.betaOris, direction, \"cubic\", marker='o', s=markerSize, fig=fig, ax=ax)\n",
    "    Quat.plotIPF(possibleBetaOris, direction, \"cubic\", s=markerSize, plot=plot)\n",
    "\n",
    "fig.tight_layout()"
   ]
  },
  {
   "cell_type": "markdown",
   "metadata": {
    "pycharm": {
     "name": "#%% md\n"
    }
   },
   "source": [
    "## Find the most common variant for each grain and set this as the beta orientaion"
   ]
  },
  {
   "cell_type": "code",
   "execution_count": null,
   "metadata": {},
   "outputs": [],
   "source": [
    "modeVariants = []\n",
    "parentBetaOris = []\n",
    "\n",
    "for grain in EbsdMap:\n",
    "#     modeVariant = np.argmax(grain.variantCount)\n",
    "#     parentBetaOri = grain.betaOris[modeVariant]\n",
    "    \n",
    "    variantCount = np.array(grain.variantCount)\n",
    "    # argmax would only pass one value if multiple variants have the same number of counts\n",
    "    modeVariant = np.where(variantCount == np.max(variantCount))[0]\n",
    "    if len(modeVariant) == 1:\n",
    "        modeVariant = modeVariant[0]\n",
    "        parentBetaOri = grain.betaOris[modeVariant]\n",
    "    else:\n",
    "        # multiple variants with same max\n",
    "        modeVariant = -1\n",
    "        parentBetaOri = Quat(1., 0., 0., 0.)\n",
    "    \n",
    "    modeVariants.append(modeVariant)\n",
    "    grain.modeVariant = modeVariant\n",
    "    parentBetaOris.append(parentBetaOri)\n",
    "    grain.parentBetaOri = parentBetaOri"
   ]
  },
  {
   "cell_type": "markdown",
   "metadata": {
    "pycharm": {
     "name": "#%% md\n"
    }
   },
   "source": [
    "## Plot"
   ]
  },
  {
   "cell_type": "markdown",
   "metadata": {
    "pycharm": {
     "name": "#%% md\n"
    }
   },
   "source": [
    "### Vaiant number "
   ]
  },
  {
   "cell_type": "code",
   "execution_count": null,
   "metadata": {
    "pycharm": {
     "name": "#%%\n"
    }
   },
   "outputs": [],
   "source": [
    "plot = EbsdMap.plotGrainDataMap(grainData=modeVariants, vmin=-1, vmax=5, cmap=\"Set1\")\n",
    "plot.addColourBar(\"mode variant\")"
   ]
  },
  {
   "cell_type": "markdown",
   "metadata": {
    "pycharm": {
     "name": "#%% md\n"
    }
   },
   "source": [
    "### IPF of grains filled with average orientation"
   ]
  },
  {
   "cell_type": "code",
   "execution_count": null,
   "metadata": {},
   "outputs": [],
   "source": [
    "directions = [\n",
    "    np.array([1,0,0]),\n",
    "    np.array([0,1,0]),\n",
    "    np.array([0,0,1])\n",
    "]\n",
    "\n",
    "fig, axes = plt.subplots(1, len(directions), figsize=(15,5))\n",
    "\n",
    "for ax, direction in zip(axes, directions):\n",
    "    betaGrainIPFColours = Quat.calcIPFcolours(parentBetaOris, direction, \"cubic\")\n",
    "\n",
    "    EbsdMap.plotGrainDataMap(grainData=betaGrainIPFColours, fig=fig, ax=ax)\n",
    "    \n",
    "fig.tight_layout()"
   ]
  },
  {
   "cell_type": "markdown",
   "metadata": {},
   "source": [
    "### Calculate and then plot beta orientation map"
   ]
  },
  {
   "cell_type": "code",
   "execution_count": null,
   "metadata": {},
   "outputs": [],
   "source": [
    "from beta_reconstruction.crystal_relations import unq_hex_syms, burg_trans\n",
    "\n",
    "transformations = []\n",
    "for sym in unq_hex_syms:\n",
    "    transformations.append(burg_trans * sym.conjugate)\n",
    "    \n",
    "variantMap = EbsdMap.grainDataToMapData(modeVariants, bg=-2)\n",
    "    \n",
    "betaQuatArray = np.empty_like(EbsdMap.quatArray)\n",
    "for i in range(EbsdMap.yDim):\n",
    "    for j in range(EbsdMap.xDim):\n",
    "        variant = variantMap[i, j]\n",
    "        if variant < 0:\n",
    "            # points not part of a grain (-2) and \n",
    "            # those that were not reconstructed (-1)\n",
    "            betaQuatArray[i, j] = Quat(1, 0, 0, 0)\n",
    "        else:\n",
    "#             betaQuatArray[i, j] = burg_trans * unq_hex_syms[variant].conjugate * EbsdMap.quatArray[i, j]\n",
    "            betaQuatArray[i, j] = transformations[variant] * EbsdMap.quatArray[i, j]"
   ]
  },
  {
   "cell_type": "code",
   "execution_count": null,
   "metadata": {
    "pycharm": {
     "name": "#%%\n"
    }
   },
   "outputs": [],
   "source": [
    "directions = [\n",
    "    np.array([1,0,0]),\n",
    "    np.array([0,1,0]),\n",
    "    np.array([0,0,1])\n",
    "]\n",
    "\n",
    "fig, axes = plt.subplots(1, len(directions), figsize=(15,5))\n",
    "\n",
    "for ax, direction in zip(axes, directions):\n",
    "    betaIPFColours = Quat.calcIPFcolours(betaQuatArray.flatten(), direction, \"cubic\")\n",
    "    # reshape back to map shape array\n",
    "    betaIPFColours = np.reshape(betaIPFColours, (EbsdMap.yDim, EbsdMap.xDim, 3))\n",
    "    \n",
    "    # recolour the -1 and -2 variants\n",
    "    # -1 grains not reconstructed (white)\n",
    "    # -2 clusters too small to be a grain (black)\n",
    "    indxs = np.where(variantMap == -1)\n",
    "    betaIPFColours[indxs[0], indxs[1]] = np.array([1, 1, 1])\n",
    "    indxs = np.where(variantMap == -2)\n",
    "    betaIPFColours[indxs[0], indxs[1]] = np.array([0, 0, 0])\n",
    "    \n",
    "    plot = MapPlot.create(EbsdMap, betaIPFColours, fig=fig, ax=ax)\n",
    "    \n",
    "fig.tight_layout()"
   ]
  }
 ],
 "metadata": {
  "kernelspec": {
   "display_name": "Python 3",
   "language": "python",
   "name": "python3"
  },
  "language_info": {
   "codemirror_mode": {
    "name": "ipython",
    "version": 3
   },
   "file_extension": ".py",
   "mimetype": "text/x-python",
   "name": "python",
   "nbconvert_exporter": "python",
   "pygments_lexer": "ipython3",
   "version": "3.7.2"
  }
 },
 "nbformat": 4,
 "nbformat_minor": 4
}
