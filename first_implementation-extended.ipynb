{
 "cells": [
  {
   "cell_type": "code",
   "execution_count": 2,
   "metadata": {},
   "outputs": [],
   "source": [
    "import numpy as np\n",
    "import matplotlib.pyplot as plt\n",
    "\n",
    "from defdap.quat import Quat\n",
    "import defdap.ebsd as ebsd\n",
    "\n",
    "from defdap.plotting import PolePlot\n",
    "\n",
    "%matplotlib osx"
   ]
  },
  {
   "cell_type": "code",
   "execution_count": 3,
   "metadata": {},
   "outputs": [
    {
     "name": "stdout",
     "output_type": "stream",
     "text": [
      "Loaded EBSD data (dimensions: 285 x 276 pixels, step size: 5.0 um)\n",
      "Done                                               "
     ]
    }
   ],
   "source": [
    "EbsdFilePath = \"/Users/mbcx9ma4/Dropbox (The University of Manchester)/Beta Reconstruction/data/triple_point/ZrNb_triplepoint_alpha\"\n",
    "\n",
    "EbsdMap = ebsd.Map(EbsdFilePath, \"hexagonal\")\n",
    "EbsdMap.buildQuatArray()\n",
    "\n",
    "EbsdMap.findBoundaries(boundDef=4)\n",
    "EbsdMap.findGrains(minGrainSize=5)\n",
    "\n",
    "EbsdMap.calcGrainAvOris()"
   ]
  },
  {
   "cell_type": "code",
   "execution_count": 5,
   "metadata": {},
   "outputs": [
    {
     "data": {
      "text/plain": [
       "<defdap.plotting.MapPlot at 0x1c299fc250>"
      ]
     },
     "execution_count": 5,
     "metadata": {},
     "output_type": "execute_result"
    }
   ],
   "source": [
    "EbsdMap.plotEulerMap(plotScaleBar=True, plotGBs=True)"
   ]
  },
  {
   "cell_type": "code",
   "execution_count": 13,
   "metadata": {},
   "outputs": [
    {
     "data": {
      "text/plain": [
       "2214"
      ]
     },
     "execution_count": 13,
     "metadata": {},
     "output_type": "execute_result"
    }
   ],
   "source": [
    "len(EbsdMap)"
   ]
  },
  {
   "cell_type": "code",
   "execution_count": 14,
   "metadata": {},
   "outputs": [
    {
     "data": {
      "text/plain": [
       "<defdap.plotting.MapPlot at 0x1c2bbfd7f0>"
      ]
     },
     "execution_count": 14,
     "metadata": {},
     "output_type": "execute_result"
    }
   ],
   "source": [
    "EbsdMap.plotBoundaryMap()"
   ]
  },
  {
   "cell_type": "code",
   "execution_count": 15,
   "metadata": {},
   "outputs": [
    {
     "data": {
      "text/plain": [
       "<defdap.plotting.MapPlot at 0x1c2c9729b0>"
      ]
     },
     "execution_count": 15,
     "metadata": {},
     "output_type": "execute_result"
    }
   ],
   "source": [
    "EbsdMap.locateGrainID(plotGBs=True)"
   ]
  },
  {
   "cell_type": "markdown",
   "metadata": {},
   "source": [
    "## Burgers relation"
   ]
  },
  {
   "cell_type": "code",
   "execution_count": 16,
   "metadata": {},
   "outputs": [],
   "source": [
    "eulers = np.array([135., 90., 354.74])*np.pi/180.\n",
    "burgersQuat = Quat(*eulers)\n",
    "burgersQuat = burgersQuat.conjugate"
   ]
  },
  {
   "cell_type": "code",
   "execution_count": 56,
   "metadata": {},
   "outputs": [
    {
     "data": {
      "text/plain": [
       "array([[-7.04129114e-01, -6.48243097e-02,  7.07106781e-01],\n",
       "       [ 7.04129114e-01,  6.48243097e-02,  7.07106781e-01],\n",
       "       [-9.16754180e-02,  9.95788942e-01,  1.11022302e-16]])"
      ]
     },
     "execution_count": 56,
     "metadata": {},
     "output_type": "execute_result"
    }
   ],
   "source": [
    "burgersQuat.rotMatrix()"
   ]
  },
  {
   "cell_type": "code",
   "execution_count": 57,
   "metadata": {},
   "outputs": [
    {
     "data": {
      "text/plain": [
       "array([[-0.70412415, -0.06487826,  0.70710678],\n",
       "       [ 0.70412415,  0.06487826,  0.70710678],\n",
       "       [-0.09175171,  0.99578192,  0.        ]])"
      ]
     },
     "execution_count": 57,
     "metadata": {},
     "output_type": "execute_result"
    }
   ],
   "source": [
    "# HCP -> BCC\n",
    "np.array([\n",
    "    [-0.5*(1 + 1/np.sqrt(6)), 0.5*(1/np.sqrt(3) - 1/np.sqrt(2)), 1/np.sqrt(2)],\n",
    "    [0.5*(1 + 1/np.sqrt(6)), -0.5*(1/np.sqrt(3) - 1/np.sqrt(2)), 1/np.sqrt(2)],\n",
    "    [-0.5*(1 - 2/np.sqrt(6)), 0.5*(1/np.sqrt(3) + 2/np.sqrt(2)), 0]\n",
    "])"
   ]
  },
  {
   "cell_type": "code",
   "execution_count": 31,
   "metadata": {},
   "outputs": [
    {
     "data": {
      "text/plain": [
       "array([[-0.70412415,  0.70412415, -0.09175171],\n",
       "       [-0.06487826,  0.06487826,  0.99578192],\n",
       "       [ 0.70710678,  0.70710678,  0.        ]])"
      ]
     },
     "execution_count": 31,
     "metadata": {},
     "output_type": "execute_result"
    }
   ],
   "source": [
    "np.linalg.inv(np.array([\n",
    "    [-0.5*(1 + 1/np.sqrt(6)), 0.5*(1/np.sqrt(3) - 1/np.sqrt(2)), 1/np.sqrt(2)],\n",
    "    [0.5*(1 + 1/np.sqrt(6)), -0.5*(1/np.sqrt(3) - 1/np.sqrt(2)), 1/np.sqrt(2)],\n",
    "    [-0.5*(1 - 2/np.sqrt(6)), 0.5*(1/np.sqrt(3) + 2/np.sqrt(2)), 0]\n",
    "]))"
   ]
  },
  {
   "cell_type": "markdown",
   "metadata": {},
   "source": [
    "## Hex symmetries subset"
   ]
  },
  {
   "cell_type": "code",
   "execution_count": 13,
   "metadata": {},
   "outputs": [
    {
     "name": "stdout",
     "output_type": "stream",
     "text": [
      "0 [1.0000, 0.0000, 0.0000, 0.0000]\n",
      "1 [0.0000, 1.0000, 0.0000, 0.0000]\n",
      "2 [0.0000, 0.0000, 1.0000, 0.0000]\n",
      "3 [0.0000, 0.0000, 0.0000, 1.0000]\n",
      "4 [0.8660, 0.0000, 0.0000, 0.5000]\n",
      "5 [0.5000, 0.0000, 0.0000, 0.8660]\n",
      "6 [0.5000, 0.0000, 0.0000, -0.8660]\n",
      "7 [0.8660, 0.0000, 0.0000, -0.5000]\n",
      "8 [0.0000, -0.5000, -0.8660, 0.0000]\n",
      "9 [0.0000, 0.5000, -0.8660, 0.0000]\n",
      "10 [0.0000, 0.8660, -0.5000, 0.0000]\n",
      "11 [0.0000, -0.8660, -0.5000, 0.0000]\n"
     ]
    }
   ],
   "source": [
    "hexSymms = Quat.symEqv(\"hexagonal\")\n",
    "\n",
    "for i, symm in enumerate(hexSymms):\n",
    "    print(i, symm)"
   ]
  },
  {
   "cell_type": "code",
   "execution_count": 35,
   "metadata": {
    "collapsed": true,
    "jupyter": {
     "outputs_hidden": true
    }
   },
   "outputs": [
    {
     "name": "stdout",
     "output_type": "stream",
     "text": [
      "[[1. 0. 0.]\n",
      " [0. 1. 0.]\n",
      " [0. 0. 1.]]\n",
      " \n",
      "[[-0.5   -0.866  0.   ]\n",
      " [ 0.866 -0.5    0.   ]\n",
      " [ 0.     0.     1.   ]]\n",
      " \n",
      "[[ 0.5   -0.866  0.   ]\n",
      " [ 0.866  0.5    0.   ]\n",
      " [ 0.     0.     1.   ]]\n",
      " \n",
      "[[-1.  0.  0.]\n",
      " [ 0.  1.  0.]\n",
      " [ 0.  0. -1.]]\n",
      " \n",
      "[[ 0.5   -0.866  0.   ]\n",
      " [-0.866 -0.5    0.   ]\n",
      " [-0.    -0.    -1.   ]]\n",
      " \n",
      "[[ 0.5    0.866  0.   ]\n",
      " [ 0.866 -0.5    0.   ]\n",
      " [ 0.    -0.    -1.   ]]\n",
      " \n"
     ]
    }
   ],
   "source": [
    "hexFundSymms = [\n",
    "    Quat(*np.array([0, 0, 0])),\n",
    "    Quat(*np.array([2*np.pi/3, 0, 0])),\n",
    "    Quat(*np.array([np.pi/3, 0, 0])),\n",
    "    Quat(*np.array([np.pi, np.pi, 0])),\n",
    "    Quat(*np.array([np.pi, np.pi, 4*np.pi/3])),\n",
    "    Quat(*np.array([np.pi, np.pi, 2*np.pi/3])),\n",
    "]\n",
    "\n",
    "with np.printoptions(precision=3, suppress=True):\n",
    "    for symm in hexFundSymms:\n",
    "#         print(symm)\n",
    "#         print(symm.rotMatrix())\n",
    "#         print(symm.conjugate)\n",
    "        print(symm.conjugate.rotMatrix())\n",
    "        print(\" \")\n",
    "\n",
    "# [0, 5, 4, 2, 10, 11]"
   ]
  },
  {
   "cell_type": "code",
   "execution_count": 39,
   "metadata": {},
   "outputs": [
    {
     "data": {
      "text/plain": [
       "[[1.0000, 0.0000, 0.0000, 0.0000],\n",
       " [0.5000, 0.0000, 0.0000, 0.8660],\n",
       " [0.8660, 0.0000, 0.0000, 0.5000],\n",
       " [0.0000, 0.0000, 1.0000, 0.0000],\n",
       " [0.0000, 0.8660, -0.5000, 0.0000],\n",
       " [0.0000, -0.8660, -0.5000, 0.0000]]"
      ]
     },
     "execution_count": 39,
     "metadata": {},
     "output_type": "execute_result"
    }
   ],
   "source": [
    "hexFundSymms = [\n",
    "    hexSymms[0],\n",
    "    hexSymms[5],\n",
    "    hexSymms[4],\n",
    "    hexSymms[2],\n",
    "    hexSymms[10],\n",
    "    hexSymms[11]\n",
    "]\n",
    "hexFundSymms"
   ]
  },
  {
   "cell_type": "markdown",
   "metadata": {},
   "source": [
    "## Cubic symmetries subset"
   ]
  },
  {
   "cell_type": "code",
   "execution_count": 31,
   "metadata": {},
   "outputs": [
    {
     "name": "stdout",
     "output_type": "stream",
     "text": [
      "0 [1.0000, 0.0000, 0.0000, 0.0000]\n",
      "1 [0.7071, 0.7071, 0.0000, 0.0000]\n",
      "2 [0.0000, 1.0000, 0.0000, 0.0000]\n",
      "3 [0.7071, -0.7071, 0.0000, 0.0000]\n",
      "4 [0.7071, 0.0000, 0.7071, 0.0000]\n",
      "5 [0.0000, 0.0000, 1.0000, 0.0000]\n",
      "6 [0.7071, 0.0000, -0.7071, 0.0000]\n",
      "7 [0.7071, 0.0000, 0.0000, 0.7071]\n",
      "8 [0.0000, 0.0000, 0.0000, 1.0000]\n",
      "9 [0.7071, 0.0000, 0.0000, -0.7071]\n",
      "10 [0.0000, 0.7071, 0.7071, 0.0000]\n",
      "11 [0.0000, -0.7071, 0.7071, 0.0000]\n",
      "12 [0.0000, 0.7071, 0.0000, 0.7071]\n",
      "13 [0.0000, -0.7071, 0.0000, 0.7071]\n",
      "14 [0.0000, 0.0000, 0.7071, 0.7071]\n",
      "15 [0.0000, 0.0000, -0.7071, 0.7071]\n",
      "16 [0.5000, 0.5000, 0.5000, 0.5000]\n",
      "17 [0.5000, -0.5000, -0.5000, -0.5000]\n",
      "18 [0.5000, -0.5000, 0.5000, 0.5000]\n",
      "19 [0.5000, 0.5000, -0.5000, -0.5000]\n",
      "20 [0.5000, 0.5000, -0.5000, 0.5000]\n",
      "21 [0.5000, -0.5000, 0.5000, -0.5000]\n",
      "22 [0.5000, 0.5000, 0.5000, -0.5000]\n",
      "23 [0.5000, -0.5000, -0.5000, 0.5000]\n"
     ]
    }
   ],
   "source": [
    "cubicSymms = Quat.symEqv(\"cubic\")\n",
    "\n",
    "for i, symm in enumerate(cubicSymms):\n",
    "    print(i, symm)"
   ]
  },
  {
   "cell_type": "code",
   "execution_count": 43,
   "metadata": {
    "collapsed": true,
    "jupyter": {
     "outputs_hidden": true
    }
   },
   "outputs": [
    {
     "name": "stdout",
     "output_type": "stream",
     "text": [
      "[[1. 0. 0.]\n",
      " [0. 1. 0.]\n",
      " [0. 0. 1.]]\n",
      " \n",
      "[[ 0. -1.  0.]\n",
      " [ 1.  0.  0.]\n",
      " [ 0.  0.  1.]]\n",
      " \n",
      "[[-0.  1. -0.]\n",
      " [-1. -0.  0.]\n",
      " [ 0.  0.  1.]]\n",
      " \n",
      "[[ 1.  0.  0.]\n",
      " [ 0.  0. -1.]\n",
      " [ 0.  1.  0.]]\n",
      " \n",
      "[[-0.  1.  0.]\n",
      " [-0.  0. -1.]\n",
      " [-1. -0.  0.]]\n",
      " \n",
      "[[ 0. -0.  1.]\n",
      " [ 1.  0. -0.]\n",
      " [ 0.  1.  0.]]\n",
      " \n",
      "[[-0. -0.  1.]\n",
      " [ 0. -1. -0.]\n",
      " [ 1.  0.  0.]]\n",
      " \n",
      "[[-1. -0.  0.]\n",
      " [ 0. -0. -1.]\n",
      " [ 0. -1.  0.]]\n",
      " \n",
      "[[ 0.  0.  1.]\n",
      " [-0.  1. -0.]\n",
      " [-1. -0.  0.]]\n",
      " \n",
      "[[-1. -0.  0.]\n",
      " [ 0. -1.  0.]\n",
      " [ 0.  0.  1.]]\n",
      " \n",
      "[[ 0.  0.  1.]\n",
      " [-1. -0.  0.]\n",
      " [ 0. -1.  0.]]\n",
      " \n",
      "[[ 0. -1.  0.]\n",
      " [ 0.  0. -1.]\n",
      " [ 1.  0.  0.]]\n",
      " \n"
     ]
    }
   ],
   "source": [
    "cubicFundSymms = [\n",
    "    Quat(*np.array([0, 0, 0])),\n",
    "    Quat(*np.array([np.pi/2, 0, 0])),\n",
    "    Quat(*np.array([3*np.pi/2, 0, 0])),\n",
    "    Quat(*np.array([0, np.pi/2, 0])),\n",
    "    Quat(*np.array([0, np.pi/2, 3*np.pi/2])),\n",
    "    Quat(*np.array([np.pi/2, np.pi/2, 0])),\n",
    "    Quat(*np.array([np.pi/2, np.pi/2, np.pi/2])),\n",
    "    Quat(*np.array([0, np.pi/2, np.pi])),\n",
    "    Quat(*np.array([np.pi/2, np.pi/2, 3*np.pi/2])),\n",
    "    Quat(*np.array([np.pi, 0, 0])),\n",
    "    Quat(*np.array([np.pi/2, np.pi/2, np.pi])),\n",
    "    Quat(*np.array([0, np.pi/2, np.pi/2]))\n",
    "]\n",
    "\n",
    "with np.printoptions(precision=3, suppress=True):\n",
    "    for symm in cubicFundSymms:\n",
    "#         print(symm)\n",
    "#         print(symm.rotMatrix())\n",
    "#         print(symm.conjugate)\n",
    "        print(symm.conjugate.rotMatrix())\n",
    "        print(\" \")\n",
    "\n",
    "# [0, 7, 9, 1, 22, 16, 12, 15, 4, 8, 21, 20]"
   ]
  },
  {
   "cell_type": "code",
   "execution_count": 48,
   "metadata": {},
   "outputs": [
    {
     "data": {
      "text/plain": [
       "[[1.0000, 0.0000, 0.0000, 0.0000],\n",
       " [0.7071, 0.0000, 0.0000, 0.7071],\n",
       " [0.7071, 0.0000, 0.0000, -0.7071],\n",
       " [0.7071, 0.7071, 0.0000, 0.0000],\n",
       " [0.5000, 0.5000, 0.5000, -0.5000],\n",
       " [0.5000, 0.5000, 0.5000, 0.5000],\n",
       " [0.0000, 0.7071, 0.0000, 0.7071],\n",
       " [0.0000, 0.0000, -0.7071, 0.7071],\n",
       " [0.7071, 0.0000, 0.7071, 0.0000],\n",
       " [0.0000, 0.0000, 0.0000, 1.0000],\n",
       " [0.5000, -0.5000, 0.5000, -0.5000],\n",
       " [0.5000, 0.5000, -0.5000, 0.5000]]"
      ]
     },
     "execution_count": 48,
     "metadata": {},
     "output_type": "execute_result"
    }
   ],
   "source": [
    "cubicFundSymms = [\n",
    "    cubicSymms[0],\n",
    "    cubicSymms[7],\n",
    "    cubicSymms[9],\n",
    "    cubicSymms[1],\n",
    "    cubicSymms[22],\n",
    "    cubicSymms[16],\n",
    "    cubicSymms[12],\n",
    "    cubicSymms[15],\n",
    "    cubicSymms[4],\n",
    "    cubicSymms[8],\n",
    "    cubicSymms[21],\n",
    "    cubicSymms[20]\n",
    "]\n",
    "cubicFundSymms"
   ]
  },
  {
   "cell_type": "code",
   "execution_count": null,
   "metadata": {},
   "outputs": [],
   "source": []
  },
  {
   "cell_type": "code",
   "execution_count": null,
   "metadata": {},
   "outputs": [],
   "source": []
  },
  {
   "cell_type": "code",
   "execution_count": null,
   "metadata": {},
   "outputs": [],
   "source": []
  },
  {
   "cell_type": "markdown",
   "metadata": {
    "toc-hr-collapsed": false
   },
   "source": [
    "## Check sense of burgers transformation"
   ]
  },
  {
   "cell_type": "code",
   "execution_count": 17,
   "metadata": {},
   "outputs": [
    {
     "name": "stdout",
     "output_type": "stream",
     "text": [
      "Loaded EBSD data (dimensions: 285 x 276 pixels, step size: 5.0 um)\n",
      "Done                                               "
     ]
    }
   ],
   "source": [
    "EbsdFilePath = \"/Users/mbcx9ma4/Dropbox (The University of Manchester)/Beta Reconstruction/data/triple_point/betareconstructed_ZrNb_triplepoint\"\n",
    "\n",
    "EbsdMapBeta = ebsd.Map(EbsdFilePath, \"cubic\", dataType=\"OxfordText\")\n",
    "EbsdMapBeta.buildQuatArray()\n",
    "\n",
    "EbsdMapBeta.findBoundaries(boundDef=8)\n",
    "EbsdMapBeta.findGrains(minGrainSize=10)"
   ]
  },
  {
   "cell_type": "code",
   "execution_count": 39,
   "metadata": {},
   "outputs": [
    {
     "data": {
      "text/plain": [
       "<defdap.plotting.MapPlot at 0x1c22f397f0>"
      ]
     },
     "execution_count": 39,
     "metadata": {},
     "output_type": "execute_result"
    }
   ],
   "source": [
    "EbsdMapBeta.plotEulerMap()"
   ]
  },
  {
   "cell_type": "code",
   "execution_count": 112,
   "metadata": {},
   "outputs": [
    {
     "name": "stdout",
     "output_type": "stream",
     "text": [
      "(276, 285)\n",
      "(276, 285)\n"
     ]
    }
   ],
   "source": [
    "print(EbsdMapBeta.quatArray.shape)\n",
    "print(EbsdMap.quatArray.shape)"
   ]
  },
  {
   "cell_type": "code",
   "execution_count": 116,
   "metadata": {},
   "outputs": [
    {
     "data": {
      "text/plain": [
       "<defdap.plotting.PolePlot at 0x1c22e79358>"
      ]
     },
     "execution_count": 116,
     "metadata": {},
     "output_type": "execute_result"
    },
    {
     "data": {
      "image/png": "[encoded data removed]",
      "text/plain": [
       "<Figure size 432x288 with 1 Axes>"
      ]
     },
     "metadata": {
      "needs_background": "light"
     },
     "output_type": "display_data"
    }
   ],
   "source": [
    "Quat.plotIPF(EbsdMapBeta.quatArray.flatten(), np.array([0,0,1]), \"cubic\", alpha=0.2)"
   ]
  },
  {
   "cell_type": "code",
   "execution_count": 158,
   "metadata": {},
   "outputs": [
    {
     "name": "stdout",
     "output_type": "stream",
     "text": [
      "[0.5903, -0.0622, 0.1130, 0.7968]\n",
      "[0.5715, -0.6354, 0.1368, -0.5009]\n"
     ]
    },
    {
     "data": {
      "image/png": "[encoded data removed]",
      "text/plain": [
       "<Figure size 432x288 with 1 Axes>"
      ]
     },
     "metadata": {
      "needs_background": "light"
     },
     "output_type": "display_data"
    },
    {
     "data": {
      "image/png": "[encoded data removed]",
      "text/plain": [
       "<Figure size 432x288 with 1 Axes>"
      ]
     },
     "metadata": {
      "needs_background": "light"
     },
     "output_type": "display_data"
    }
   ],
   "source": [
    "pointX, pointY = 200, 200 \n",
    "\n",
    "betaOri = EbsdMapBeta.quatArray[pointY, pointX]\n",
    "print(betaOri)\n",
    "betaOri.plotIPF(np.array([0,0,1]), \"cubic\")\n",
    "\n",
    "alphaOri = EbsdMap.quatArray[pointY, pointX]\n",
    "print(alphaOri)\n",
    "alphaOri.plotIPF(np.array([0,0,1]), \"hexagonal\")"
   ]
  },
  {
   "cell_type": "code",
   "execution_count": 159,
   "metadata": {},
   "outputs": [
    {
     "data": {
      "text/plain": [
       "[[0.5540, -0.4742, 0.1347, 0.6709],\n",
       " [0.3673, -0.0946, -0.9059, -0.1882],\n",
       " [0.7075, 0.1266, 0.3928, -0.5737],\n",
       " [0.2400, 0.8661, -0.0826, 0.4306],\n",
       " [0.3598, -0.8437, 0.1580, 0.3657],\n",
       " [0.0691, -0.9872, 0.1389, -0.0375],\n",
       " [0.4849, 0.5130, -0.0042, 0.7083],\n",
       " [0.5998, 0.0224, 0.0754, 0.7963],\n",
       " [0.7964, 0.0623, -0.1128, -0.5909],\n",
       " [0.4291, 0.1570, 0.7931, -0.4027],\n",
       " [0.0357, 0.1453, 0.9810, -0.1238],\n",
       " [0.6718, -0.0187, -0.5882, -0.4498]]"
      ]
     },
     "execution_count": 159,
     "metadata": {},
     "output_type": "execute_result"
    },
    {
     "data": {
      "image/png": "[encoded data removed]",
      "text/plain": [
       "<Figure size 1080x360 with 3 Axes>"
      ]
     },
     "metadata": {
      "needs_background": "light"
     },
     "output_type": "display_data"
    }
   ],
   "source": [
    "size = 200\n",
    "\n",
    "betaOris = []\n",
    "\n",
    "for symm in hexSymms:\n",
    "    betaReOri = burgersQuat * (symm.conjugate * alphaOri)\n",
    "        \n",
    "    betaOris.append(betaReOri)\n",
    "    \n",
    "fig, axes = plt.subplots(1,3, figsize=(15,5))\n",
    "\n",
    "plot = Quat.plotIPF([betaOri], np.array([0,0,1]), \"cubic\", marker='o', s=size, fig=fig, ax=axes[0])\n",
    "Quat.plotIPF(betaOris, np.array([0,0,1]), \"cubic\", plot=plot, c=np.arange(len(betaOris)), s=size)\n",
    "\n",
    "plot = Quat.plotIPF([betaOri], np.array([0,1,0]), \"cubic\", marker='o', s=size, fig=fig, ax=axes[1])\n",
    "Quat.plotIPF(betaOris, np.array([0,1,0]), \"cubic\", plot=plot, c=np.arange(len(betaOris)), s=size)\n",
    "\n",
    "plot = Quat.plotIPF([betaOri], np.array([1,0,0]), \"cubic\", marker='o', s=size, fig=fig, ax=axes[2])\n",
    "Quat.plotIPF(betaOris, np.array([1,0,0]), \"cubic\", plot=plot, c=np.arange(len(betaOris)), s=size)\n",
    "\n",
    "plt.tight_layout()\n",
    "\n",
    "betaOris"
   ]
  },
  {
   "cell_type": "code",
   "execution_count": null,
   "metadata": {},
   "outputs": [],
   "source": []
  },
  {
   "cell_type": "code",
   "execution_count": 82,
   "metadata": {
    "collapsed": true,
    "jupyter": {
     "outputs_hidden": true
    }
   },
   "outputs": [
    {
     "name": "stdout",
     "output_type": "stream",
     "text": [
      "[ 0.46069228  0.39865342  0.79299311 -0.74643449 -0.30937336  0.58917202\n",
      "  0.48020639 -0.86334441  0.15504274]\n",
      "[ 0.46069228  0.39865342  0.79299311 -0.74643449 -0.30937336  0.58917202\n",
      "  0.48020639 -0.86334441  0.15504274]\n",
      "True\n",
      " \n",
      "[ 0.46069228  0.39865342  0.79299311  0.74643449  0.30937336 -0.58917202\n",
      " -0.48020639  0.86334441 -0.15504274]\n",
      "[ 0.46069228  0.39865342  0.79299311  0.74643449  0.30937336 -0.58917202\n",
      " -0.48020639  0.86334441 -0.15504274]\n",
      "True\n",
      " \n",
      "[-0.46069228 -0.39865342 -0.79299311 -0.74643449 -0.30937336  0.58917202\n",
      " -0.48020639  0.86334441 -0.15504274]\n",
      "[-0.46069228 -0.39865342 -0.79299311 -0.74643449 -0.30937336  0.58917202\n",
      " -0.48020639  0.86334441 -0.15504274]\n",
      "True\n",
      " \n",
      "[-0.46069228 -0.39865342 -0.79299311  0.74643449  0.30937336 -0.58917202\n",
      "  0.48020639 -0.86334441  0.15504274]\n",
      "[-0.46069228 -0.39865342 -0.79299311  0.74643449  0.30937336 -0.58917202\n",
      "  0.48020639 -0.86334441  0.15504274]\n",
      "True\n",
      " \n",
      "[ 0.87677737  0.4672519  -0.11374138  0.02575397  0.19055731  0.98133819\n",
      "  0.48020639 -0.86334441  0.15504274]\n",
      "[ 0.87677737  0.4672519  -0.11374138  0.02575397  0.19055731  0.98133819\n",
      "  0.48020639 -0.86334441  0.15504274]\n",
      "False\n",
      " \n",
      "[ 0.41608509  0.06859848 -0.90673449  0.77218846  0.49993067  0.39216617\n",
      "  0.48020639 -0.86334441  0.15504274]\n",
      "[ 0.41608509  0.06859848 -0.90673449  0.77218846  0.49993067  0.39216617\n",
      "  0.48020639 -0.86334441  0.15504274]\n",
      "False\n",
      " \n",
      "[-0.87677737 -0.4672519   0.11374138 -0.02575397 -0.19055731 -0.98133819\n",
      "  0.48020639 -0.86334441  0.15504274]\n",
      "[-0.87677737 -0.4672519   0.11374138 -0.02575397 -0.19055731 -0.98133819\n",
      "  0.48020639 -0.86334441  0.15504274]\n",
      "False\n",
      " \n",
      "[-0.41608509 -0.06859848  0.90673449 -0.77218846 -0.49993067 -0.39216617\n",
      "  0.48020639 -0.86334441  0.15504274]\n",
      "[-0.41608509 -0.06859848  0.90673449 -0.77218846 -0.49993067 -0.39216617\n",
      "  0.48020639 -0.86334441  0.15504274]\n",
      "False\n",
      " \n",
      "[-0.87677737 -0.4672519   0.11374138  0.02575397  0.19055731  0.98133819\n",
      " -0.48020639  0.86334441 -0.15504274]\n",
      "[-0.87677737 -0.4672519   0.11374138  0.02575397  0.19055731  0.98133819\n",
      " -0.48020639  0.86334441 -0.15504274]\n",
      "True\n",
      " \n",
      "[ 0.41608509  0.06859848 -0.90673449 -0.77218846 -0.49993067 -0.39216617\n",
      " -0.48020639  0.86334441 -0.15504274]\n",
      "[ 0.41608509  0.06859848 -0.90673449 -0.77218846 -0.49993067 -0.39216617\n",
      " -0.48020639  0.86334441 -0.15504274]\n",
      "True\n",
      " \n",
      "[ 0.87677737  0.4672519  -0.11374138 -0.02575397 -0.19055731 -0.98133819\n",
      " -0.48020639  0.86334441 -0.15504274]\n",
      "[ 0.87677737  0.4672519  -0.11374138 -0.02575397 -0.19055731 -0.98133819\n",
      " -0.48020639  0.86334441 -0.15504274]\n",
      "True\n",
      " \n",
      "[-0.41608509 -0.06859848  0.90673449  0.77218846  0.49993067  0.39216617\n",
      " -0.48020639  0.86334441 -0.15504274]\n",
      "[-0.41608509 -0.06859848  0.90673449  0.77218846  0.49993067  0.39216617\n",
      " -0.48020639  0.86334441 -0.15504274]\n",
      "True\n",
      " \n"
     ]
    }
   ],
   "source": [
    "for symm in hexSymms:\n",
    "    oriSymm = symm * alphaOri\n",
    "    print(oriSymm.rotMatrix().flatten())\n",
    "    \n",
    "    print(np.matmul(symm.rotMatrix(), alphaOri.rotMatrix()).flatten())\n",
    "    \n",
    "    print(np.allclose(\n",
    "        oriSymm.rotMatrix(),\n",
    "        np.matmul(symm.conjugate.rotMatrix(), alphaOri.rotMatrix())\n",
    "    ))\n",
    "    \n",
    "    print(\" \")"
   ]
  },
  {
   "cell_type": "code",
   "execution_count": null,
   "metadata": {},
   "outputs": [],
   "source": []
  },
  {
   "cell_type": "code",
   "execution_count": null,
   "metadata": {},
   "outputs": [],
   "source": []
  },
  {
   "cell_type": "code",
   "execution_count": null,
   "metadata": {},
   "outputs": [],
   "source": []
  },
  {
   "cell_type": "code",
   "execution_count": 138,
   "metadata": {},
   "outputs": [
    {
     "name": "stdout",
     "output_type": "stream",
     "text": [
      "[[-1.  60.  60.  10.5 49.5 60. ]\n",
      " [60.  -1.  60.  60.  10.5 49.5]\n",
      " [60.  60.  -1.  49.5 60.  10.5]\n",
      " [10.5 60.  49.5 -1.  60.  60. ]\n",
      " [49.5 10.5 60.  60.  -1.  60. ]\n",
      " [60.  49.5 10.5 60.  60.  -1. ]]\n"
     ]
    }
   ],
   "source": [
    "misOris = np.ones((len(betaOris), len(betaOris)))\n",
    "\n",
    "for i in range(len(betaOris)):\n",
    "#     for j in range(i+1, len(betaOris)):\n",
    "    for j in range(len(betaOris)):\n",
    "        misOris[i, j] = betaOris[i].misOri(betaOris[j], \"cubic\")\n",
    "\n",
    "misOris[misOris > 1.] = 1.\n",
    "misOris = 2 * np.arccos(misOris) * 180 / np.pi\n",
    "for i in range(len(betaOris)):\n",
    "    misOris[i, i] = -1.\n",
    "\n",
    "with np.printoptions(precision=1, suppress=True):\n",
    "    print(misOris)"
   ]
  },
  {
   "cell_type": "code",
   "execution_count": 144,
   "metadata": {},
   "outputs": [
    {
     "name": "stdout",
     "output_type": "stream",
     "text": [
      "[51.6 54.5 42.2 48.6 43.3 44.5]\n"
     ]
    }
   ],
   "source": [
    "misOris = np.ones(len(betaOris))\n",
    "\n",
    "for i in range(len(betaOris)):\n",
    "    misOris[i] = betaOris[i].misOri(betaOri, \"cubic\")\n",
    "\n",
    "misOris[misOris > 1.] = 1.\n",
    "misOris = 2 * np.arccos(misOris) * 180 / np.pi\n",
    "\n",
    "with np.printoptions(precision=1, suppress=True):\n",
    "    print(misOris)"
   ]
  },
  {
   "cell_type": "code",
   "execution_count": 128,
   "metadata": {},
   "outputs": [
    {
     "data": {
      "text/plain": [
       "[[0.4701, -0.3366, -0.0009, 0.8159],\n",
       " [0.2878, -0.7462, 0.1214, 0.5879],\n",
       " [0.0284, -0.9558, 0.2112, 0.2024],\n",
       " [0.8342, -0.0234, 0.2518, -0.4900],\n",
       " [0.5570, -0.2224, -0.6850, -0.4135],\n",
       " [0.2772, 0.1991, 0.9368, -0.0765]]"
      ]
     },
     "execution_count": 128,
     "metadata": {},
     "output_type": "execute_result"
    },
    {
     "data": {
      "image/png": "[encoded data removed]",
      "text/plain": [
       "<Figure size 1080x360 with 3 Axes>"
      ]
     },
     "metadata": {
      "needs_background": "light"
     },
     "output_type": "display_data"
    }
   ],
   "source": [
    "size = 200\n",
    "\n",
    "betaOris = []\n",
    "\n",
    "for symm in hexFundSymms:\n",
    "    betaReOri = burgersQuat * symm.conjugate * alphaOri\n",
    "    \n",
    "    betaOris.append(betaReOri)\n",
    "\n",
    "fig, axes = plt.subplots(1,3, figsize=(15,5))\n",
    "\n",
    "plot = Quat.plotIPF([betaOri], np.array([0,0,1]), \"cubic\", marker='o', s=size, fig=fig, ax=axes[0])\n",
    "Quat.plotIPF(betaOris, np.array([0,0,1]), \"cubic\", plot=plot, c=np.arange(len(betaOris)), s=size)\n",
    "\n",
    "plot = Quat.plotIPF([betaOri], np.array([0,1,0]), \"cubic\", marker='o', s=size, fig=fig, ax=axes[1])\n",
    "Quat.plotIPF(betaOris, np.array([0,1,0]), \"cubic\", plot=plot, c=np.arange(len(betaOris)), s=size)\n",
    "\n",
    "plot = Quat.plotIPF([betaOri], np.array([1,0,0]), \"cubic\", marker='o', s=size, fig=fig, ax=axes[2])\n",
    "Quat.plotIPF(betaOris, np.array([1,0,0]), \"cubic\", plot=plot, c=np.arange(len(betaOris)), s=size)\n",
    "\n",
    "plt.tight_layout()\n",
    "\n",
    "betaOris"
   ]
  },
  {
   "cell_type": "code",
   "execution_count": null,
   "metadata": {},
   "outputs": [],
   "source": []
  },
  {
   "cell_type": "code",
   "execution_count": null,
   "metadata": {},
   "outputs": [],
   "source": []
  },
  {
   "cell_type": "code",
   "execution_count": null,
   "metadata": {},
   "outputs": [],
   "source": []
  },
  {
   "cell_type": "code",
   "execution_count": null,
   "metadata": {},
   "outputs": [],
   "source": []
  },
  {
   "cell_type": "code",
   "execution_count": null,
   "metadata": {},
   "outputs": [],
   "source": []
  },
  {
   "cell_type": "code",
   "execution_count": null,
   "metadata": {},
   "outputs": [],
   "source": []
  },
  {
   "cell_type": "code",
   "execution_count": null,
   "metadata": {},
   "outputs": [],
   "source": []
  },
  {
   "cell_type": "code",
   "execution_count": null,
   "metadata": {},
   "outputs": [],
   "source": []
  },
  {
   "cell_type": "code",
   "execution_count": 45,
   "metadata": {},
   "outputs": [
    {
     "name": "stdout",
     "output_type": "stream",
     "text": [
      "[-0.61309202  0.77128058  0.17101007 -0.71461018 -0.63371836  0.29619813\n",
      "  0.33682409  0.05939117  0.93969262]\n"
     ]
    },
    {
     "data": {
      "text/plain": [
       "array([[-0.61309202,  0.77128058,  0.17101007],\n",
       "       [-0.71461018, -0.63371836,  0.29619813],\n",
       "       [ 0.33682409,  0.05939117,  0.93969262]])"
      ]
     },
     "execution_count": 45,
     "metadata": {},
     "output_type": "execute_result"
    }
   ],
   "source": [
    "phi1 = 100.\n",
    "PHI = 20.\n",
    "phi2 = 30.\n",
    "phi1rad = phi1 * 3.14159265358979 / 180\n",
    "PHIrad = PHI * 3.14159265358979 / 180\n",
    "phi2rad = phi2 * 3.14159265358979 / 180\n",
    "\n",
    "Orientation_g = np.zeros(9)\n",
    "Orientation_g[0] =  np.cos(phi1rad) * np.cos(phi2rad) - np.sin(phi1rad) * np.sin(phi2rad) * np.cos(PHIrad)\n",
    "Orientation_g[1] =  np.sin(phi1rad) * np.cos(phi2rad) + np.cos(phi1rad) * np.sin(phi2rad) * np.cos(PHIrad)\n",
    "Orientation_g[2] =  np.sin(phi2rad) * np.sin(PHIrad)\n",
    "Orientation_g[3] = -np.cos(phi1rad) * np.sin(phi2rad) - np.sin(phi1rad) * np.cos(phi2rad) * np.cos(PHIrad)\n",
    "Orientation_g[4] = -np.sin(phi1rad) * np.sin(phi2rad) + np.cos(phi1rad) * np.cos(phi2rad) * np.cos(PHIrad)\n",
    "Orientation_g[5] =  np.cos(phi2rad) * np.sin(PHIrad)\n",
    "Orientation_g[6] =  np.sin(phi1rad) * np.sin(PHIrad)\n",
    "Orientation_g[7] = -np.cos(phi1rad) * np.sin(PHIrad)\n",
    "Orientation_g[8] =  np.cos(PHIrad)\n",
    "\n",
    "print(Orientation_g)\n",
    "\n",
    "Quat(phi1rad, PHIrad, phi2rad).rotMatrix()"
   ]
  },
  {
   "cell_type": "code",
   "execution_count": 66,
   "metadata": {},
   "outputs": [],
   "source": [
    "def g_to_euler(matrix):\n",
    "    g_matrix = np.zeros(9)\n",
    "    pi = 3.14159265358979\n",
    "    if (matrix[8] > 0.99999999):\n",
    "        Cap_phi = 0\n",
    "        Phi_1 = 0\n",
    "        Phi_2 = np.arctan(matrix[3] / matrix[4])\n",
    "    elif (matrix[8] < -0.999999999):\n",
    "        Cap_phi = pi\n",
    "        Phi_1 = 0\n",
    "        Phi_2 = np.arctan(matrix[1] / matrix[4])\n",
    "    else:\n",
    "        Cap_phi = np.arccos(matrix[8])\n",
    "        Phi_1 = np.arctan(-(matrix[6] / np.sin(Cap_phi)) / (matrix[7] / np.sin(Cap_phi)))\n",
    "        Phi_2 = np.arctan( (matrix[2] / np.sin(Cap_phi)) / (matrix[5] / np.sin(Cap_phi)))\n",
    "\n",
    "    g_matrix[0] =  np.cos(Phi_1) * np.cos(Phi_2) - np.sin(Phi_1) * np.sin(Phi_2) * np.cos(Cap_phi)\n",
    "    g_matrix[1] =  np.sin(Phi_1) * np.cos(Phi_2) + np.cos(Phi_1) * np.sin(Phi_2) * np.cos(Cap_phi)\n",
    "    g_matrix[2] =  np.sin(Phi_2) * np.sin(Cap_phi)\n",
    "    g_matrix[3] = -np.cos(Phi_1) * np.sin(Phi_2) - np.sin(Phi_1) * np.cos(Phi_2) * np.cos(Cap_phi)\n",
    "    g_matrix[4] = -np.sin(Phi_1) * np.sin(Phi_2) + np.cos(Phi_1) * np.cos(Phi_2) * np.cos(Cap_phi)\n",
    "    g_matrix[5] =  np.cos(Phi_2) * np.sin(Cap_phi)\n",
    "    g_matrix[6] =  np.sin(Phi_1) * np.sin(Cap_phi)\n",
    "    g_matrix[7] = -np.cos(Phi_1) * np.sin(Cap_phi)\n",
    "    g_matrix[8] =  np.cos(Cap_phi)\n",
    "    \n",
    "    \n",
    "    if ((g_matrix[6] / matrix[6] < 0) and (g_matrix[7] / matrix[7] < 0)):\n",
    "        Phi_1 = Phi_1 + pi\n",
    "\n",
    "    if ((g_matrix[2] / matrix[2] < 0) and (g_matrix[5] / matrix[5] < 0)):\n",
    "        Phi_2 = Phi_2 + pi\n",
    "\n",
    "    if (Phi_1 < 0):\n",
    "        Phi_1 = Phi_1 + 2 * pi\n",
    "\n",
    "    if (Phi_2 < 0):\n",
    "        Phi_2 = Phi_2 + 2 * pi\n",
    "        \n",
    "    return (Phi_1, Cap_phi, Phi_2)\n"
   ]
  },
  {
   "cell_type": "code",
   "execution_count": 54,
   "metadata": {},
   "outputs": [
    {
     "data": {
      "text/plain": [
       "array([4.282689  , 0.25865779, 0.13417219])"
      ]
     },
     "execution_count": 54,
     "metadata": {},
     "output_type": "execute_result"
    }
   ],
   "source": [
    "betaOri.eulerAngles()"
   ]
  },
  {
   "cell_type": "code",
   "execution_count": 71,
   "metadata": {},
   "outputs": [
    {
     "name": "stdout",
     "output_type": "stream",
     "text": [
      "[0.5540, -0.4742, 0.1347, 0.6709]\n",
      "[0.5540, -0.4742, 0.1347, 0.6709]\n",
      " \n",
      "[0.3598, -0.8437, 0.1580, 0.3657]\n",
      "[0.3598, -0.8437, 0.1580, 0.3657]\n",
      " \n",
      "[0.0691, -0.9872, 0.1389, -0.0375]\n",
      "[0.0691, -0.9872, 0.1389, -0.0375]\n",
      " \n",
      "[0.7075, 0.1266, 0.3928, -0.5737]\n",
      "[0.7075, 0.1266, 0.3928, -0.5737]\n",
      " \n",
      "[0.6718, -0.0187, -0.5882, -0.4498]\n",
      "[0.6718, -0.0187, -0.5882, -0.4498]\n",
      " \n",
      "[0.0357, 0.1453, 0.9810, -0.1238]\n",
      "[0.0357, 0.1453, 0.9810, -0.1238]\n",
      " \n"
     ]
    }
   ],
   "source": [
    "for symm in hexFundSymms:\n",
    "    beta_mat = np.matmul(burgersQuat.rotMatrix(), np.matmul(symm.conjugate.rotMatrix(), alphaOri.rotMatrix()))\n",
    "    \n",
    "    print(Quat(*g_to_euler(beta_mat.flatten())))\n",
    "    \n",
    "    print(burgersQuat*(symm.conjugate * alphaOri))\n",
    "    \n",
    "    print(\" \")"
   ]
  },
  {
   "cell_type": "code",
   "execution_count": null,
   "metadata": {},
   "outputs": [],
   "source": []
  },
  {
   "cell_type": "code",
   "execution_count": null,
   "metadata": {},
   "outputs": [],
   "source": []
  },
  {
   "cell_type": "code",
   "execution_count": null,
   "metadata": {},
   "outputs": [],
   "source": []
  },
  {
   "cell_type": "code",
   "execution_count": null,
   "metadata": {},
   "outputs": [],
   "source": []
  },
  {
   "cell_type": "markdown",
   "metadata": {
    "toc-hr-collapsed": false
   },
   "source": [
    "## Reconstruction algorithm"
   ]
  },
  {
   "cell_type": "markdown",
   "metadata": {},
   "source": [
    "[1] M. Humbert, F. Wagner, H. Moustahfid, and C. Esling, “Determination of the Orientation of a Parent β Grain from the Orientations of the Inherited α Plates in the Phase Transformation from Body-Centred Cubic to Hexagonal Close Packed,” J. Appl. Crystallogr., vol. 28, pp. 571–576, 1995."
   ]
  },
  {
   "cell_type": "code",
   "execution_count": 3,
   "metadata": {},
   "outputs": [],
   "source": [
    "import numpy as np\n",
    "import matplotlib.pyplot as plt\n",
    "\n",
    "from defdap.quat import Quat\n",
    "import defdap.ebsd as ebsd\n",
    "\n",
    "from defdap.plotting import PolePlot, MapPlot\n",
    "\n",
    "%matplotlib qt"
   ]
  },
  {
   "cell_type": "markdown",
   "metadata": {},
   "source": [
    "### Load in EBSD file, find grains and calculate grain average orientaions"
   ]
  },
  {
   "cell_type": "code",
   "execution_count": 2,
   "metadata": {},
   "outputs": [
    {
     "name": "stdout",
     "output_type": "stream",
     "text": [
      "Loaded EBSD data (dimensions: 285 x 276 pixels, step size: 5.0 um)\n",
      "Done                                               "
     ]
    }
   ],
   "source": [
    "EbsdFilePath = \"/Users/mbcx9ma4/Dropbox (The University of Manchester)/Beta Reconstruction/\"\n",
    "EbsdFilePath += \"data/triple_point/ZrNb_triplepoint_alpha\"\n",
    "# EbsdFilePath = \"data/large/ZrNb_large_alpha\"\n",
    "\n",
    "EbsdMap = ebsd.Map(EbsdFilePath, \"hexagonal\")\n",
    "EbsdMap.buildQuatArray()\n",
    "\n",
    "# EbsdMap.findBoundaries(boundDef=8)\n",
    "# EbsdMap.findGrains(minGrainSize=3)\n",
    "\n",
    "# EbsdMap.calcGrainAvOris()"
   ]
  },
  {
   "cell_type": "code",
   "execution_count": 4,
   "metadata": {},
   "outputs": [
    {
     "name": "stdout",
     "output_type": "stream",
     "text": [
      "Done                                               "
     ]
    }
   ],
   "source": [
    "# quatsO = EbsdMap.filterData()\n",
    "\n",
    "EbsdMap.findBoundaries(boundDef=10)\n",
    "EbsdMap.findGrains(minGrainSize=3)\n",
    "\n",
    "EbsdMap.calcGrainAvOris()"
   ]
  },
  {
   "cell_type": "code",
   "execution_count": 33,
   "metadata": {},
   "outputs": [],
   "source": [
    "quats = np.copy(quatsO)"
   ]
  },
  {
   "cell_type": "code",
   "execution_count": 34,
   "metadata": {},
   "outputs": [],
   "source": [
    "misOriTol = 5\n",
    "misOriTol *= np.pi / 180\n",
    "misOriTol = np.cos(misOriTol / 2)\n",
    "\n",
    "refQuat = quats[:, 0, 0]\n",
    "misOrisQuad = np.abs(\n",
    "    np.einsum(\"ijk,i->jk\", quats, refQuat)\n",
    ")\n",
    "quats = quats[:, misOrisQuad > misOriTol]"
   ]
  },
  {
   "cell_type": "code",
   "execution_count": 35,
   "metadata": {},
   "outputs": [
    {
     "data": {
      "text/plain": [
       "0.9990482215818578"
      ]
     },
     "execution_count": 35,
     "metadata": {},
     "output_type": "execute_result"
    }
   ],
   "source": [
    "misOriTol"
   ]
  },
  {
   "cell_type": "code",
   "execution_count": 36,
   "metadata": {},
   "outputs": [
    {
     "data": {
      "text/plain": [
       "array([[1.        , 0.99977136, 0.70323523],\n",
       "       [0.99971674, 0.99969357, 0.99975868],\n",
       "       [0.75681592, 0.99975868, 0.88520796]])"
      ]
     },
     "execution_count": 36,
     "metadata": {},
     "output_type": "execute_result"
    }
   ],
   "source": [
    "misOrisQuad"
   ]
  },
  {
   "cell_type": "code",
   "execution_count": 38,
   "metadata": {},
   "outputs": [
    {
     "data": {
      "text/plain": [
       "(4, 6)"
      ]
     },
     "execution_count": 38,
     "metadata": {},
     "output_type": "execute_result"
    }
   ],
   "source": [
    "quats.shape"
   ]
  },
  {
   "cell_type": "code",
   "execution_count": null,
   "metadata": {},
   "outputs": [],
   "source": []
  },
  {
   "cell_type": "code",
   "execution_count": 9,
   "metadata": {},
   "outputs": [
    {
     "data": {
      "text/plain": [
       "<defdap.plotting.MapPlot at 0x1c2ce718d0>"
      ]
     },
     "execution_count": 9,
     "metadata": {},
     "output_type": "execute_result"
    }
   ],
   "source": [
    "EbsdMap.locateGrainID(plotGBs='line')"
   ]
  },
  {
   "cell_type": "code",
   "execution_count": 10,
   "metadata": {},
   "outputs": [
    {
     "data": {
      "text/plain": [
       "<defdap.plotting.MapPlot at 0x1c2a3c2590>"
      ]
     },
     "execution_count": 10,
     "metadata": {},
     "output_type": "execute_result"
    }
   ],
   "source": [
    "EbsdMap.plotGrainMap()"
   ]
  },
  {
   "cell_type": "code",
   "execution_count": 5,
   "metadata": {},
   "outputs": [],
   "source": [
    "EbsdMap.buildNeighbourNetwork()"
   ]
  },
  {
   "cell_type": "code",
   "execution_count": 6,
   "metadata": {},
   "outputs": [
    {
     "data": {
      "text/plain": [
       "<defdap.plotting.MapPlot at 0x1c2406c050>"
      ]
     },
     "execution_count": 6,
     "metadata": {},
     "output_type": "execute_result"
    }
   ],
   "source": [
    "EbsdMap.displayNeighbours()"
   ]
  },
  {
   "cell_type": "markdown",
   "metadata": {},
   "source": [
    "### Construct subset of symmetries and the Burger transformation"
   ]
  },
  {
   "cell_type": "code",
   "execution_count": 7,
   "metadata": {},
   "outputs": [],
   "source": [
    "hexSymms = Quat.symEqv(\"hexagonal\")\n",
    "hexFundSymms = [\n",
    "    hexSymms[0],\n",
    "    hexSymms[5],\n",
    "    hexSymms[4],\n",
    "    hexSymms[2],\n",
    "    hexSymms[10],\n",
    "    hexSymms[11]\n",
    "]\n",
    "\n",
    "cubicSymms = Quat.symEqv(\"cubic\")\n",
    "cubicFundSymms = [\n",
    "    cubicSymms[0],\n",
    "    cubicSymms[7],\n",
    "    cubicSymms[9],\n",
    "    cubicSymms[1],\n",
    "    cubicSymms[22],\n",
    "    cubicSymms[16],\n",
    "    cubicSymms[12],\n",
    "    cubicSymms[15],\n",
    "    cubicSymms[4],\n",
    "    cubicSymms[8],\n",
    "    cubicSymms[21],\n",
    "    cubicSymms[20]\n",
    "]\n",
    "\n",
    "# HCP -> BCC\n",
    "eulers = np.array([135., 90., 354.74])*np.pi/180.\n",
    "burgersQuat = Quat(*eulers)\n",
    "burgersQuat = burgersQuat.conjugate"
   ]
  },
  {
   "cell_type": "markdown",
   "metadata": {},
   "source": [
    "### Calculate possible beta orientations for each grain"
   ]
  },
  {
   "cell_type": "code",
   "execution_count": 8,
   "metadata": {},
   "outputs": [],
   "source": [
    "for grain in EbsdMap:\n",
    "    grain.betaOris = []\n",
    "\n",
    "    for symm in hexFundSymms:\n",
    "        grain.betaOris.append(burgersQuat * symm.conjugate * grain.refOri)\n"
   ]
  },
  {
   "cell_type": "markdown",
   "metadata": {},
   "source": [
    "### Calculate possible beta orientations from misorientations between each grain adn its neighbours"
   ]
  },
  {
   "cell_type": "code",
   "execution_count": 9,
   "metadata": {},
   "outputs": [
    {
     "name": "stdout",
     "output_type": "stream",
     "text": [
      " Grain number 1921 of 1922392.32105135917664\n"
     ]
    }
   ],
   "source": [
    "import time\n",
    "start = time.time()\n",
    "\n",
    "\n",
    "maxDevFromBurgers = 5    # in degrees\n",
    "\n",
    "\n",
    "cubicSymComps = np.empty((4, len(cubicFundSymms)))\n",
    "for i, cubicSymm in enumerate(cubicFundSymms):\n",
    "    cubicSymComps[:, i] = cubicSymm.quatCoef\n",
    "    \n",
    "\n",
    "\n",
    "\n",
    "# grainID = 479\n",
    "# grainID = 457\n",
    "# grain = EbsdMap[grainID]\n",
    "\n",
    "numGrains = len(EbsdMap)\n",
    "for grainID, grain in enumerate(EbsdMap):\n",
    "# if True:\n",
    "    if grainID % 10 == 0:\n",
    "        print(\"\\r Grain number {} of {}\".format(grainID+1, numGrains), end=\"\")\n",
    "    \n",
    "    grain.possibleBetaOris = []\n",
    "    grain.betaDeviations = []\n",
    "\n",
    "    neighbourIDs = list(EbsdMap.neighbourNetwork.neighbors(grainID))\n",
    "    neighbourGrains = [EbsdMap[i] for i in neighbourIDs]\n",
    "    \n",
    "    grainInvOri = grain.refOri.conjugate\n",
    "    \n",
    "    for neighbourID, neighbourGrain in zip(neighbourIDs, neighbourGrains):\n",
    "#         if neighbourID != 479:\n",
    "#             continue\n",
    "        \n",
    "        neighbourGrainOri = neighbourGrain.refOri\n",
    "        \n",
    "        a2a1inv = neighbourGrainOri * grainInvOri\n",
    "        \n",
    "        mis144 = np.zeros((12, 12))\n",
    "        RCS144 = np.zeros((12, 12), dtype=int)\n",
    "        \n",
    "        # calculate all posible S^B_m (eqn 11. from [1]) from the measured misorientation from 2 neighbour alpha grains\n",
    "        # for each S^B_m calculate the 'closest' cubic symmetry (from subset) and the deviation from this symmetry\n",
    "        for i, hexSymm in enumerate(hexSymms):\n",
    "            dummy = a2a1inv * hexSymm\n",
    "\n",
    "            for j, hexSymm2 in enumerate(hexSymms):\n",
    "                Bvariant = burgersQuat * ((hexSymm2.conjugate * dummy) * burgersQuat.conjugate)\n",
    "                \n",
    "                misOris = np.einsum(\"ij,i->j\", cubicSymComps, Bvariant.quatCoef)\n",
    "                \n",
    "#                 misOris = []\n",
    "#                 for cubicSymm in cubicFundSymms:                    \n",
    "#                     misOri = Bvariant.dot(cubicSymm)\n",
    "#                     misOris.append(misOri)    \n",
    "#                 misOris = np.abs(np.array(misOris))\n",
    "\n",
    "                misOris = np.abs(misOris)\n",
    "                misOris[misOris > 1] = 1.\n",
    "                misOris = 2 * np.arccos(misOris) * 180 / np.pi\n",
    "                \n",
    "                minMisOriIdx = np.argmin(misOris)\n",
    "                mis144[i, j] = misOris[minMisOriIdx]\n",
    "                RCS144[i, j] = minMisOriIdx\n",
    "        \n",
    "        # find the hex symmetries (i, j) from give the minimum deviation from the burgers relation\n",
    "        # for the minimum store: the deviation, the hex symmetries (i, j) and the cubic symmetry\n",
    "        # if the deviation is over a threshold then set cubic symmetry to -1\n",
    "        minMisOriIdx = np.unravel_index(np.argmin(mis144), mis144.shape)\n",
    "        devFromBurgers = mis144[minMisOriIdx]\n",
    "        cubicSymmIndx = RCS144[minMisOriIdx] if devFromBurgers < maxDevFromBurgers else -1\n",
    "        a1Symm = minMisOriIdx[0]\n",
    "        a2Symm = minMisOriIdx[1]\n",
    "#         print(devFromBurgers, cubicSymmIndx)\n",
    "\n",
    "#         with np.printoptions(precision=2, suppress=True, linewidth=100):\n",
    "#             print(minMisOriIdx)\n",
    "#             print(mis144)\n",
    "#             print(devFromBurgers)\n",
    "#             print(RCS144)\n",
    "#             print(cubicSymmIndx)\n",
    "#             print(\" \")\n",
    "\n",
    "        possibleBetaOris = []\n",
    "        if cubicSymmIndx > -1 and cubicSymmIndx < 9:\n",
    "            # one possible beta orientation\n",
    "            # A:\n",
    "            possibleBetaOris.append(\n",
    "                burgersQuat * hexSymms[a1Symm].conjugate * grain.refOri\n",
    "            )\n",
    "            \n",
    "        elif cubicSymmIndx == 9:\n",
    "            # three possible beta orientation\n",
    "            # A:\n",
    "            possibleBetaOris.append(\n",
    "                burgersQuat * hexSymms[a1Symm].conjugate * grain.refOri\n",
    "            )\n",
    "            # B:\n",
    "            # hexFundSymms[1] is C^+_3z\n",
    "            possibleBetaOris.append(\n",
    "                burgersQuat * hexFundSymms[1].conjugate * hexSymms[a1Symm].conjugate * grain.refOri\n",
    "            )\n",
    "            # C:\n",
    "            # hexFundSymms[2] is C^+_6z\n",
    "            possibleBetaOris.append(\n",
    "                burgersQuat * hexFundSymms[2].conjugate * hexSymms[a1Symm].conjugate * grain.refOri\n",
    "            )\n",
    "            \n",
    "        elif cubicSymmIndx > 9:\n",
    "            # two possible beta orientation\n",
    "            # A:\n",
    "            possibleBetaOris.append(\n",
    "                burgersQuat * hexSymms[a1Symm].conjugate * grain.refOri\n",
    "            )\n",
    "            # D:\n",
    "            # hexFundSymms[4] is C'_22\n",
    "            possibleBetaOris.append(\n",
    "                burgersQuat * hexFundSymms[4].conjugate * hexSymms[a1Symm].conjugate * grain.refOri\n",
    "            )\n",
    "            \n",
    "        grain.possibleBetaOris.append(possibleBetaOris)\n",
    "        grain.betaDeviations.append(devFromBurgers)\n",
    "        \n",
    "#         print(grainID, neighbourID)\n",
    "#         print(possibleBetaOris)\n",
    "#         print(devFromBurgers)\n",
    "#         break\n",
    "        \n",
    "        \n",
    "    # do all the accounting stuff\n",
    "    oriTol = 3.  # in degrees\n",
    "    oriTol = np.cos(oriTol / 2 * np.pi / 180.)  # divide 2 because of 2* in misorientation\n",
    "\n",
    "    allPossibleBetaOris = [item for sublist in grain.possibleBetaOris for item in sublist]\n",
    "    uniqueBetaOris = []\n",
    "    countBetaOris = []\n",
    "    variantIndexes = []\n",
    "\n",
    "    for ori in allPossibleBetaOris:\n",
    "        found = False\n",
    "        for i, uniqueOri in enumerate(uniqueBetaOris):\n",
    "            misOri = ori.misOri(uniqueOri, \"cubic\")\n",
    "            if misOri > oriTol:\n",
    "                found = True\n",
    "                countBetaOris[i] += 1\n",
    "\n",
    "        if not found:\n",
    "            uniqueBetaOris.append(ori)\n",
    "            countBetaOris.append(1)\n",
    "\n",
    "            for i, betaVariant in enumerate(grain.betaOris):\n",
    "                misOri = ori.misOri(betaVariant, \"cubic\")\n",
    "                if misOri > oriTol:\n",
    "                    variantIndexes.append(i)\n",
    "                    break\n",
    "            else:\n",
    "                variantIndexes.append(-1)\n",
    "                print(\"Couldn't find beta variant. Grain {:}\".format(grainID))\n",
    "\n",
    "    variantCount = [0, 0, 0, 0, 0, 0]\n",
    "    for i in range(len(variantIndexes)):\n",
    "        if i > -1:\n",
    "            variantCount[variantIndexes[i]] = countBetaOris[i]\n",
    "\n",
    "    grain.variantCount = variantCount\n",
    "\n",
    "#     print(uniqueBetaOris)\n",
    "#     print(countBetaOris)\n",
    "#     print(variantIndexes)\n",
    "#     print(variantCount)\n",
    "\n",
    "\n",
    "end = time.time()\n",
    "print(end - start)"
   ]
  },
  {
   "cell_type": "code",
   "execution_count": 10,
   "metadata": {},
   "outputs": [
    {
     "name": "stdout",
     "output_type": "stream",
     "text": [
      "6.538684189319611\n"
     ]
    }
   ],
   "source": [
    "print((end - start) / 60)"
   ]
  },
  {
   "cell_type": "code",
   "execution_count": null,
   "metadata": {},
   "outputs": [],
   "source": [
    "7.73 min\n",
    "7.55 min"
   ]
  },
  {
   "cell_type": "code",
   "execution_count": null,
   "metadata": {},
   "outputs": [],
   "source": []
  },
  {
   "cell_type": "markdown",
   "metadata": {},
   "source": [
    "### Look at the data stored for each grain"
   ]
  },
  {
   "cell_type": "code",
   "execution_count": 23,
   "metadata": {},
   "outputs": [
    {
     "data": {
      "text/plain": [
       "<defdap.plotting.MapPlot at 0x1c3503a350>"
      ]
     },
     "execution_count": 23,
     "metadata": {},
     "output_type": "execute_result"
    },
    {
     "name": "stdout",
     "output_type": "stream",
     "text": [
      "Grain ID: 886\n"
     ]
    }
   ],
   "source": [
    "EbsdMap.locateGrainID()"
   ]
  },
  {
   "cell_type": "code",
   "execution_count": 11,
   "metadata": {},
   "outputs": [],
   "source": [
    "grain = EbsdMap[838]"
   ]
  },
  {
   "cell_type": "code",
   "execution_count": 12,
   "metadata": {},
   "outputs": [
    {
     "data": {
      "text/plain": [
       "[[0.5411, -0.6621, -0.0950, -0.5097],\n",
       " [0.1931, 0.3502, 0.6910, 0.6022],\n",
       " [0.2009, -0.5845, -0.4538, -0.6420],\n",
       " [0.4708, 0.0264, -0.6573, 0.5879],\n",
       " [0.6217, 0.6615, -0.4003, -0.1248],\n",
       " [0.1509, 0.6351, 0.2570, -0.7126]]"
      ]
     },
     "execution_count": 12,
     "metadata": {},
     "output_type": "execute_result"
    }
   ],
   "source": [
    "grain.betaOris"
   ]
  },
  {
   "cell_type": "code",
   "execution_count": 13,
   "metadata": {},
   "outputs": [
    {
     "data": {
      "text/plain": [
       "[[[0.5411, -0.6621, -0.0950, -0.5097]],\n",
       " [[0.6217, 0.6615, -0.4003, -0.1248], [0.5411, -0.6621, -0.0950, -0.5097]],\n",
       " [[0.5353, 0.0221, 0.7430, 0.4010]]]"
      ]
     },
     "execution_count": 13,
     "metadata": {},
     "output_type": "execute_result"
    }
   ],
   "source": [
    "grain.possibleBetaOris"
   ]
  },
  {
   "cell_type": "code",
   "execution_count": 14,
   "metadata": {},
   "outputs": [
    {
     "data": {
      "text/plain": [
       "[4.492500506505728, 1.1921108419492337, 1.480473681805707]"
      ]
     },
     "execution_count": 14,
     "metadata": {},
     "output_type": "execute_result"
    }
   ],
   "source": [
    "grain.betaDeviations"
   ]
  },
  {
   "cell_type": "code",
   "execution_count": 15,
   "metadata": {},
   "outputs": [
    {
     "data": {
      "text/plain": [
       "[3, 0, 0, 0, 1, 0]"
      ]
     },
     "execution_count": 15,
     "metadata": {},
     "output_type": "execute_result"
    }
   ],
   "source": [
    "grain.variantCount"
   ]
  },
  {
   "cell_type": "code",
   "execution_count": 16,
   "metadata": {},
   "outputs": [],
   "source": [
    "possibleBetaOris = [item for sublist in grain.possibleBetaOris for item in sublist]\n",
    "\n",
    "directions = [\n",
    "    np.array([1,0,0]), \n",
    "    np.array([0,1,0]), \n",
    "    np.array([0,0,1])\n",
    "]\n",
    "markerSize = 100\n",
    "\n",
    "fig, axes = plt.subplots(1, len(directions))\n",
    "\n",
    "for direction, ax in zip(directions, axes):\n",
    "    plot = Quat.plotIPF(grain.betaOris, direction, \"cubic\", marker='o', s=markerSize, fig=fig, ax=ax)\n",
    "    Quat.plotIPF(possibleBetaOris, direction, \"cubic\", s=markerSize, plot=plot)\n",
    "\n",
    "fig.tight_layout()"
   ]
  },
  {
   "cell_type": "markdown",
   "metadata": {},
   "source": [
    "### Find the most common variant for each grain and set this as the beta orientaion"
   ]
  },
  {
   "cell_type": "code",
   "execution_count": 17,
   "metadata": {},
   "outputs": [],
   "source": [
    "modeVariants = []\n",
    "parentBetaOris = []\n",
    "\n",
    "for grain in EbsdMap:\n",
    "#     modeVariant = np.argmax(grain.variantCount)\n",
    "#     parentBetaOri = grain.betaOris[modeVariant]\n",
    "    \n",
    "    variantCount = np.array(grain.variantCount)\n",
    "    modeVariant = np.where(variantCount == np.max(variantCount))[0]\n",
    "    if len(modeVariant) == 1:\n",
    "        modeVariant = modeVariant[0]\n",
    "        parentBetaOri = grain.betaOris[modeVariant]\n",
    "    else:\n",
    "        # multiple variants with same max\n",
    "        modeVariant = -1\n",
    "        parentBetaOri = Quat(1., 0., 0., 0.)\n",
    "    \n",
    "    modeVariants.append(modeVariant)\n",
    "    grain.modeVariant = modeVariant\n",
    "    parentBetaOris.append(parentBetaOri)\n",
    "    grain.parentBetaOri = parentBetaOri"
   ]
  },
  {
   "cell_type": "markdown",
   "metadata": {},
   "source": [
    "### Plot"
   ]
  },
  {
   "cell_type": "code",
   "execution_count": 18,
   "metadata": {},
   "outputs": [],
   "source": [
    "plot = EbsdMap.plotGrainDataMap(grainData=modeVariants, vmin=-1, vmax=5, cmap=\"Set1\")\n",
    "plot.addColourBar(\"mode variant\")"
   ]
  },
  {
   "cell_type": "code",
   "execution_count": 19,
   "metadata": {},
   "outputs": [],
   "source": [
    "directions = [\n",
    "    np.array([1,0,0]),\n",
    "    np.array([0,1,0]),\n",
    "    np.array([0,0,1])\n",
    "]\n",
    "\n",
    "fig, axes = plt.subplots(1, len(directions), figsize=(15,5))\n",
    "\n",
    "for ax, direction in zip(axes, directions):\n",
    "    betaGrainIPFColours = Quat.calcIPFcolours(parentBetaOris, direction, \"cubic\")\n",
    "\n",
    "    EbsdMap.plotGrainDataMap(grainData=betaGrainIPFColours, fig=fig, ax=ax)\n",
    "    \n",
    "fig.tight_layout()"
   ]
  },
  {
   "cell_type": "code",
   "execution_count": null,
   "metadata": {},
   "outputs": [],
   "source": []
  },
  {
   "cell_type": "code",
   "execution_count": null,
   "metadata": {},
   "outputs": [],
   "source": []
  },
  {
   "cell_type": "markdown",
   "metadata": {
    "toc-hr-collapsed": false
   },
   "source": [
    "## Kuwahara filter"
   ]
  },
  {
   "cell_type": "code",
   "execution_count": 4,
   "metadata": {},
   "outputs": [],
   "source": [
    "quatArray = EbsdMap.quatArray\n",
    "\n",
    "quatComps = np.empty((4,) + quatArray.shape)\n",
    "\n",
    "# store quat components in array\n",
    "for idx in np.ndindex(quatArray.shape):\n",
    "    quatComps[(slice(None),) + idx] = quatArray[idx].quatCoef\n",
    "    \n",
    "misOris = np.zeros((4,) + quatArray.shape)\n",
    "        \n",
    "for i in range(2, quatArray.shape[0]-2):\n",
    "    for j in range(2, quatArray.shape[1]-2):\n",
    "        \n",
    "        refQuat = quatComps[:, i, j]\n",
    "        \n",
    "#         quats = quatArray[i-2:i+3, j-2:j+3]\n",
    "        quadrants = [\n",
    "            quatComps[:, i-2:i+1, j-2:j+1],  # UL\n",
    "            quatComps[:, i-2:i+1, j:j+3],    # UR\n",
    "            quatComps[:, i:i+3, j-2:j+1],    # LL\n",
    "            quatComps[:, i:i+3, j:j+3],      # LR\n",
    "        ]\n",
    "        \n",
    "        for k, quats in enumerate(quadrants):\n",
    "            misOri = np.abs(np.einsum(\"ijk,i->jk\", quats, refQuat)).mean()\n",
    "            misOris[k, i, j] = misOri\n",
    "        "
   ]
  },
  {
   "cell_type": "code",
   "execution_count": 5,
   "metadata": {},
   "outputs": [],
   "source": [
    "minMisOriQuadrant = np.argmax(misOris, axis=0)\n",
    "minMisOris = 2 * np.arccos(np.max(misOris, axis=0))"
   ]
  },
  {
   "cell_type": "code",
   "execution_count": 6,
   "metadata": {},
   "outputs": [],
   "source": [
    "misOriTol = 5 * np.pi / 180\n",
    "\n",
    "quatCompsNew = np.copy(quatComps)\n",
    "\n",
    "for i in range(2, quatArray.shape[0]-2):\n",
    "    for j in range(2, quatArray.shape[1]-2):\n",
    "        if minMisOris[i, j] > misOriTol:\n",
    "            continue\n",
    "\n",
    "        quadrants = [\n",
    "            quatComps[:, i-2:i+1, j-2:j+1],  # UL\n",
    "            quatComps[:, i-2:i+1, j:j+3],    # UR\n",
    "            quatComps[:, i:i+3, j-2:j+1],    # LL\n",
    "            quatComps[:, i:i+3, j:j+3],      # LR\n",
    "        ]\n",
    "        \n",
    "        qauts = quadrants[minMisOriQuadrant[i, j]]\n",
    "        \n",
    "        avOri = np.einsum(\"ijk->i\", qauts)\n",
    "        avOri /= np.sqrt(np.dot(avOri, avOri))\n",
    "        \n",
    "        quatCompsNew[:, i, j] = avOri\n"
   ]
  },
  {
   "cell_type": "code",
   "execution_count": 7,
   "metadata": {},
   "outputs": [],
   "source": [
    "quatArrayNew = np.empty(quatArray.shape, dtype=Quat)\n",
    "\n",
    "for idx in np.ndindex(quatArray.shape):\n",
    "    quatArrayNew[idx] = Quat(quatCompsNew[(slice(None),) + idx])\n",
    "    "
   ]
  },
  {
   "cell_type": "markdown",
   "metadata": {},
   "source": [
    "### Plot"
   ]
  },
  {
   "cell_type": "code",
   "execution_count": 9,
   "metadata": {},
   "outputs": [],
   "source": [
    "from defdap.plotting import MapPlot"
   ]
  },
  {
   "cell_type": "code",
   "execution_count": 10,
   "metadata": {},
   "outputs": [],
   "source": [
    "direction = np.array([0,0,1])"
   ]
  },
  {
   "cell_type": "code",
   "execution_count": 13,
   "metadata": {},
   "outputs": [
    {
     "name": "stdout",
     "output_type": "stream",
     "text": [
      "Done                                               "
     ]
    },
    {
     "data": {
      "text/plain": [
       "<matplotlib.image.AxesImage at 0x1c2f67c910>"
      ]
     },
     "execution_count": 13,
     "metadata": {},
     "output_type": "execute_result"
    }
   ],
   "source": [
    "EbsdMap.quatArray = quatArray\n",
    "EbsdMap.findBoundaries(boundDef=3)\n",
    "plot = EbsdMap.plotIPFMap(direction)\n",
    "plot.addGrainBoundaries(colour='k')"
   ]
  },
  {
   "cell_type": "code",
   "execution_count": 14,
   "metadata": {},
   "outputs": [
    {
     "name": "stdout",
     "output_type": "stream",
     "text": [
      "Done                                               "
     ]
    },
    {
     "data": {
      "text/plain": [
       "<matplotlib.image.AxesImage at 0x1c2f67cb50>"
      ]
     },
     "execution_count": 14,
     "metadata": {},
     "output_type": "execute_result"
    }
   ],
   "source": [
    "EbsdMap.quatArray = quatArrayNew\n",
    "EbsdMap.findBoundaries(boundDef=3)\n",
    "plot = EbsdMap.plotIPFMap(direction)\n",
    "plot.addGrainBoundaries(colour='k')"
   ]
  },
  {
   "cell_type": "code",
   "execution_count": 23,
   "metadata": {},
   "outputs": [],
   "source": [
    "# calculate IPF colours\n",
    "IPFcolours = Quat.calcIPFcolours(\n",
    "    quatArrayNew.flatten(),\n",
    "    direction,\n",
    "    'cubic'\n",
    ")\n",
    "# reshape back to map shape array\n",
    "IPFcolours = np.reshape(IPFcolours, quatArrayNew.shape + (3,))\n",
    "\n",
    "plot = MapPlot.create(EbsdMap, IPFcolours)"
   ]
  },
  {
   "cell_type": "code",
   "execution_count": null,
   "metadata": {},
   "outputs": [],
   "source": []
  },
  {
   "cell_type": "code",
   "execution_count": null,
   "metadata": {},
   "outputs": [],
   "source": []
  },
  {
   "cell_type": "code",
   "execution_count": null,
   "metadata": {},
   "outputs": [],
   "source": []
  },
  {
   "cell_type": "code",
   "execution_count": 43,
   "metadata": {},
   "outputs": [
    {
     "data": {
      "text/plain": [
       "<matplotlib.image.AxesImage at 0x1c34cd84d0>"
      ]
     },
     "execution_count": 43,
     "metadata": {},
     "output_type": "execute_result"
    }
   ],
   "source": [
    "i,j=2,2\n",
    "quatArray = np.zeros((276, 285), dtype=int)\n",
    "\n",
    "\n",
    "\n",
    "quats = quatArray[i-2:i+3, j-2:j+3]\n",
    "\n",
    "\n",
    "quatsUL = quatArray[i-2:i+1, j-2:j+1]\n",
    "quatsUC = quatArray[i-2:i+1, j-1:j+2]\n",
    "quatsUR = quatArray[i-2:i+1, j:j+3]\n",
    "quatsMR = quatArray[i-1:i+2, j:j+3]\n",
    "quatsLR = quatArray[i:i+3, j:j+3]\n",
    "quatsLC = quatArray[i:i+3, j-1:j+2]\n",
    "quatsLL = quatArray[i:i+3, j-2:j+1]\n",
    "quatsML = quatArray[i-1:i+2, j-2:j+1]\n",
    "\n",
    "quatArray[i-1:i+2, j-2:j+1] = 1\n",
    "\n",
    "\n",
    "plt.imshow(quats)"
   ]
  },
  {
   "cell_type": "code",
   "execution_count": null,
   "metadata": {},
   "outputs": [],
   "source": []
  },
  {
   "cell_type": "markdown",
   "metadata": {},
   "source": [
    "## Check known alpha -> beta orientations"
   ]
  },
  {
   "cell_type": "code",
   "execution_count": 201,
   "metadata": {},
   "outputs": [],
   "source": [
    "import numpy as np\n",
    "import matplotlib.pyplot as plt\n",
    "from defdap.quat import Quat\n",
    "from sys import exit\n",
    "\n",
    "def ori_matrix(phi1,Phi,phi2,passive=True):\n",
    "\n",
    "    '''\n",
    "    Returns (passive) orientation matrix, as a np.matrix from\n",
    "    3 euler angles (in degrees). \n",
    "    '''\n",
    "    \n",
    "    phi1=np.radians(phi1)\n",
    "    Phi=np.radians(Phi)\n",
    "    phi2=np.radians(phi2)\n",
    "    R11 = np.cos(phi1)*np.cos(phi2)-np.sin(phi1)*np.cos(Phi)*np.sin(phi2)\n",
    "    R12 = np.sin(phi1)*np.cos(phi2)+ np.cos(phi1)*np.cos(Phi)*np.sin(phi2)\n",
    "    R13 = np.sin(phi2)*np.sin(Phi)\n",
    "    R21 = -np.cos(phi1)*np.sin(phi2)-np.sin(phi1)*np.cos(Phi)*np.cos(phi2)\n",
    "    R22 = - np.sin(phi1)*np.sin(phi2)+np.cos(phi1)*np.cos(Phi)*np.cos(phi2)\n",
    "    R23 = np.cos(phi2)*np.sin(Phi)\n",
    "    R31 = np.sin(phi1)*np.sin(Phi)\n",
    "    R32= -np.sin(Phi)*np.cos(phi1)\n",
    "    R33= np.cos(Phi)\n",
    "    matrix=np.matrix([[R11,R12,R13],[R21,R22,R23],[R31,R32,R33]])\n",
    "    if not passive: # matrix above is for the passive rotation \n",
    "        matrix=matrix.transpose()\n",
    "    return matrix\n",
    "\n",
    "def get_proj(g,pole,proj='stereo'):\n",
    "    ''' \n",
    "    Returns polar projection vector from an orientation matrix (g),\n",
    "    a pole vector (pole) using either stereographic or equal area projection,\n",
    "    '''\n",
    "    n=np.linalg.norm(pole)\n",
    "    pole=np.matrix(pole).T/n\n",
    "    vector=g.T*pole #invert matrix\n",
    "    alpha=np.arccos(vector[2])\n",
    "    if np.isclose(alpha,0.0):\n",
    "        beta=np.matrix([0.0])\n",
    "    else:\n",
    "        beta=np.arctan2(vector[1]/np.sin(alpha),vector[0]/np.sin(alpha))\n",
    "       \n",
    "    if alpha>np.pi/2:\n",
    "        alpha = np.pi-alpha\n",
    "        beta += np.pi\n",
    "    \n",
    "    if proj=='stereo':\n",
    "        Op=np.tan(alpha/2)\n",
    "    if proj=='equal area':\n",
    "        Op=np.sqrt(2)*np.sin(alpha/2)\n",
    "        \n",
    "    return Op, beta,vector\n",
    "\n",
    "def plot_poles(beta_list, Op_list):\n",
    "    '''\n",
    "    Plots a pole figure from a list of angles (beta_list) in radians, \n",
    "    and a list of radii (Op_list). \n",
    "    '''\n",
    "\n",
    "    fig = plt.figure(1)\n",
    "    ax = fig.add_subplot(111, projection='polar')\n",
    "    for beta, Op in zip(beta_list, Op_list):\n",
    "        ax.plot(beta, Op,'o',ms=18, alpha=0.5)\n",
    "    ax.set_yticklabels([])\n",
    "    ax.set_xticklabels([])\n",
    "    ax.set_ylim([0,1.0])\n",
    "\n",
    "def get_vectors(g,pole_list, proj='stereo'):\n",
    "    '''\n",
    "    Returns a list of vectors and correponding polar angle and radius\n",
    "    for an orientation matrix (g), using a chosen projection (proj).\n",
    "    '''  \n",
    "\n",
    "    Op_list=[]\n",
    "    beta_list=[]\n",
    "    vector_list=[]\n",
    "    \n",
    "    for pole in pole_list:\n",
    "        Op,beta,vector=get_proj(g,pole,proj)\n",
    "        Op_list.append(Op)\n",
    "        beta_list.append(beta)\n",
    "        vector_list.append(vector)\n",
    "    \n",
    "    return Op_list, beta_list, vector_list\n",
    "\n",
    "def get_pole_list(pole='001'):\n",
    "    ''' \n",
    "    Returns all symmetric variants of the '001', '110' or '111' poles.\n",
    "    '''\n",
    "\n",
    "    pole_dict = {\n",
    "        '001': [np.array([1,0,0]), np.array([0,1,0]),np.array([0,0,1]),\n",
    "               np.array([-1,0,0]), np.array([0,-1,0]),np.array([0,0,-1])],\n",
    "        '110': [np.array([1,1,0]), np.array([1,0,1]),np.array([0,1,1]),\n",
    "               np.array([-1,-1,0]), np.array([-1,0,-1]),np.array([0,-1,-1]),\n",
    "               np.array([-1,1,0]), np.array([-1,0,1]),np.array([0,-1,1]),\n",
    "               np.array([1,-1,0]), np.array([1,0,-1]),np.array([0,1,-1])],\n",
    "        '111': [np.array([1,1,1]), np.array([-1,1,1]),np.array([1,-1,1]), np.array([1,1,-1]),\n",
    "               np.array([-1,-1,-1]), np.array([-1,-1,1]),np.array([1,-1,-1]), np.array([-1,1,-1])]\n",
    "    }\n",
    "    pole_list=pole_dict[pole]\n",
    "    return pole_list\n",
    "\n",
    "\n",
    "# Utility functions\n",
    "\n",
    "def euler_to_quat(phi1,Phi,phi2):\n",
    "    \"\"\"Takes euler angles in degrees and returns quaternion\"\"\"\n",
    "    parent_eulers = np.radians(np.array((phi1, Phi, phi2)))\n",
    "    ori_quat = Quat(*parent_eulers)\n",
    "    return ori_quat\n",
    "\n",
    "# Plotting\n",
    "\n",
    "def plot_pole(g, pole='001', legend=False):\n",
    "    ''' Plots a pole figure from an orientation matrix (g)\n",
    "        for s chosen pole (pole). Pole can be the '001', '110' or '111'.\n",
    "    '''\n",
    "    \n",
    "    pole_list=get_pole_list(pole)\n",
    "    Op_list, beta_list, vector_list=get_vectors(g,pole_list)\n",
    "    plot_poles(beta_list, Op_list)\n",
    "    if legend:\n",
    "        plt.legend(pole_list,bbox_to_anchor=(1.5, 1.05))\n",
    "    #return beta_list, Op_list\n",
    "    \n",
    "def plot_all_poles(g, proj= 'stereo', fig = None, label='ro'):\n",
    "    ''' Plots 3 pole figures from an orientation matrix (g)\n",
    "        for s chosen pole (pole), correponding to the '001', '110' \n",
    "        and '111' poles.\n",
    "    '''\n",
    "    poles=['001','110','111']\n",
    "    if fig == None:\n",
    "        fig = plt.figure(figsize=(10,30))\n",
    "    for n, pole in enumerate(poles):\n",
    "        pole_list=get_pole_list(pole)\n",
    "        Op_list, beta_list, vector_list=get_vectors(g,pole_list,proj)\n",
    "        ax = fig.add_subplot(1,3,n+1, projection='polar')\n",
    "        ax.set_yticklabels([])\n",
    "        ax.set_xticklabels([])\n",
    "        ax.set_ylim([0,1.0])\n",
    "        ax.set_title(pole)\n",
    "        for beta, Op in zip(beta_list, Op_list):\n",
    "            ax.plot(beta, Op,label,ms=14, alpha=0.5)\n",
    "\n",
    "def plot_all_poles_multi(g_list, proj= 'stereo', fig = None ,label='go' ):\n",
    "    ''' Plots 3 pole figures from a list of orientation matrices (g_list)\n",
    "        for s chosen pole (pole), correponding to the '001', '110' \n",
    "        and '111' poles.\n",
    "    '''\n",
    "    poles=['001','110','111']\n",
    "    if fig == None:\n",
    "        fig = plt.figure(figsize=(10,30))\n",
    "    pole_figures=[]\n",
    "    for n, pole in enumerate(poles): \n",
    "        ax = fig.add_subplot(1,3,n+1, projection='polar')\n",
    "        pole_figures.append(ax)\n",
    "        ax.set_yticklabels([])\n",
    "        ax.set_xticklabels([])\n",
    "        ax.set_ylim([0,1.0])\n",
    "        ax.set_title(pole)\n",
    "    for g in g_list:\n",
    "        for pole_figure, pole in zip(pole_figures,poles):\n",
    "            pole_list=get_pole_list(pole)\n",
    "            Op_list, beta_list, vector_list=get_vectors(g,pole_list,proj)\n",
    "            for beta, Op in zip(beta_list, Op_list):\n",
    "                pole_figure.plot(beta, Op, label,ms=10, alpha=0.5)\n",
    "\n",
    "def twinOrientation(parentOri, axis, angle = 60.0):\n",
    "    \"\"\"Calculates twin orientation quaternion from parent orientation quaternion\n",
    "        by rotating about axis by angle\"\"\"\n",
    "    twinRot = Quat.fromAxisAngle(axis, np.radians(angle))\n",
    "    twinOri = twinRot * parentOri\n",
    "    return twinOri"
   ]
  },
  {
   "cell_type": "code",
   "execution_count": 222,
   "metadata": {},
   "outputs": [],
   "source": [
    "g=ori_matrix(10.0,0.0,0.0)\n",
    "plot_all_poles(g,proj='equal area')"
   ]
  },
  {
   "cell_type": "code",
   "execution_count": 230,
   "metadata": {},
   "outputs": [],
   "source": [
    "eulers = np.array([10., 10., 10.]) * np.pi / 180.\n",
    "testOri = Quat(*eulers)\n",
    "\n",
    "plot_all_poles(testOri.rotMatrix(), proj='equal area')"
   ]
  },
  {
   "cell_type": "code",
   "execution_count": 229,
   "metadata": {},
   "outputs": [],
   "source": [
    "testOri.plotIPF(np.array([1,0,0]), \"hexagonal\")"
   ]
  },
  {
   "cell_type": "code",
   "execution_count": 216,
   "metadata": {},
   "outputs": [
    {
     "data": {
      "text/plain": [
       "6"
      ]
     },
     "execution_count": 216,
     "metadata": {},
     "output_type": "execute_result"
    }
   ],
   "source": [
    "testBetaOris = []\n",
    "\n",
    "for symm in hexFundSymms:\n",
    "    betaOri = burgersQuat * symm * testOri\n",
    "    \n",
    "    testBetaOris.append(betaOri)\n",
    "    \n",
    "len(testBetaOris)"
   ]
  },
  {
   "cell_type": "code",
   "execution_count": 217,
   "metadata": {},
   "outputs": [],
   "source": [
    "plot_all_poles(testBetaOris[0].rotMatrix(), proj='equal area')"
   ]
  },
  {
   "cell_type": "code",
   "execution_count": null,
   "metadata": {},
   "outputs": [],
   "source": []
  },
  {
   "cell_type": "code",
   "execution_count": null,
   "metadata": {},
   "outputs": [],
   "source": []
  },
  {
   "cell_type": "code",
   "execution_count": null,
   "metadata": {},
   "outputs": [],
   "source": [
    "size = 200\n",
    "\n",
    "betaOris = []\n",
    "\n",
    "for symm in hexFundSymms:\n",
    "    betaReOri = burgersQuat * symm.conjugate * alphaOri\n",
    "    \n",
    "    betaOris.append(betaReOri)\n",
    "\n",
    "fig, axes = plt.subplots(1,3, figsize=(15,5))\n",
    "\n",
    "plot = Quat.plotIPF([betaOri], np.array([0,0,1]), \"cubic\", marker='o', s=size, fig=fig, ax=axes[0])\n",
    "Quat.plotIPF(betaOris, np.array([0,0,1]), \"cubic\", plot=plot, c=np.arange(len(betaOris)), s=size)\n",
    "\n",
    "plot = Quat.plotIPF([betaOri], np.array([0,1,0]), \"cubic\", marker='o', s=size, fig=fig, ax=axes[1])\n",
    "Quat.plotIPF(betaOris, np.array([0,1,0]), \"cubic\", plot=plot, c=np.arange(len(betaOris)), s=size)\n",
    "\n",
    "plot = Quat.plotIPF([betaOri], np.array([1,0,0]), \"cubic\", marker='o', s=size, fig=fig, ax=axes[2])\n",
    "Quat.plotIPF(betaOris, np.array([1,0,0]), \"cubic\", plot=plot, c=np.arange(len(betaOris)), s=size)\n",
    "\n",
    "plt.tight_layout()\n",
    "\n",
    "betaOris"
   ]
  },
  {
   "cell_type": "code",
   "execution_count": null,
   "metadata": {},
   "outputs": [],
   "source": []
  },
  {
   "cell_type": "code",
   "execution_count": null,
   "metadata": {},
   "outputs": [],
   "source": []
  },
  {
   "cell_type": "code",
   "execution_count": null,
   "metadata": {},
   "outputs": [],
   "source": []
  }
 ],
 "metadata": {
  "kernelspec": {
   "display_name": "Python 3",
   "language": "python",
   "name": "python3"
  },
  "language_info": {
   "codemirror_mode": {
    "name": "ipython",
    "version": 3
   },
   "file_extension": ".py",
   "mimetype": "text/x-python",
   "name": "python",
   "nbconvert_exporter": "python",
   "pygments_lexer": "ipython3",
   "version": "3.7.6"
  },
  "toc-autonumbering": false,
  "toc-showcode": false,
  "toc-showmarkdowntxt": false
 },
 "nbformat": 4,
 "nbformat_minor": 4
}
