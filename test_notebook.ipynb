{
 "cells": [
  {
   "cell_type": "markdown",
   "metadata": {},
   "source": [
    "## Testing notebook for beta reconstruction software"
   ]
  },
  {
   "cell_type": "markdown",
   "metadata": {},
   "source": [
    "For testing use the latest version of defdap on the grain_boundaies branch"
   ]
  },
  {
   "cell_type": "code",
   "execution_count": 1,
   "metadata": {},
   "outputs": [],
   "source": [
    "import numpy as np\n",
    "import matplotlib.pyplot as plt\n",
    "import time\n",
    "\n",
    "from defdap.quat import Quat\n",
    "import defdap.ebsd as ebsd\n",
    "\n",
    "from defdap.plotting import PolePlot, MapPlot\n",
    "\n",
    "from beta_reconstruction.reconstruction import do_reconstruction\n",
    "\n",
    "%matplotlib qt"
   ]
  },
  {
   "cell_type": "markdown",
   "metadata": {},
   "source": [
    "## Load in EBSD file, find grains and calculate grain average orientaions"
   ]
  },
  {
   "cell_type": "code",
   "execution_count": 2,
   "metadata": {},
   "outputs": [
    {
     "name": "stdout",
     "output_type": "stream",
     "text": [
      "Loaded EBSD data (dimensions: 285 x 276 pixels, step size: 5.0 um)\n",
      "Starting building quaternion array.."
     ]
    },
    {
     "name": "stderr",
     "output_type": "stream",
     "text": [
      "/Users/mbcx9ma4/modelling_stuff/packages/DataAnalysisUtilities/defdap/ebsd.py:185: UserWarning: No c/a ratio given. Using ideal ratio 1.633\n",
      "  warnings.warn(\"No c/a ratio given. Using ideal ratio 1.633\")\n"
     ]
    },
    {
     "name": "stdout",
     "output_type": "stream",
     "text": [
      "Finished building quaternion array           \n",
      "Finished finding grain boundaries           \n",
      "Finished finding grains           \n",
      "Finished calculating grain mean orientations           \n",
      "Finished constructing neighbour network           \n"
     ]
    }
   ],
   "source": [
    "dropboxPath = \"/Users/mbcx9ma4/Dropbox (The University of Manchester)/\" \\\n",
    "              \"Projects/Beta Reconstruction/Beta Reconstruction/\"\n",
    "EbsdFilePath = dropboxPath + \"data/triple_point/ZrNb_triplepoint_alpha\"\n",
    "# EbsdFilePath = dropboxPath + \"data/hot_rolled/ZrNb_hot_rolled_alpha\"\n",
    "\n",
    "EbsdMap = ebsd.Map(EbsdFilePath, \"hexagonal\")\n",
    "EbsdMap.buildQuatArray()\n",
    "\n",
    "# Kuwahara filter - this will be slow.\n",
    "# EbsdMap.filterData(misOriTol=5)\n",
    "\n",
    "EbsdMap.findBoundaries(boundDef=3)\n",
    "EbsdMap.findGrains(minGrainSize=3)\n",
    "\n",
    "EbsdMap.calcGrainAvOris()\n",
    "\n",
    "EbsdMap.buildNeighbourNetwork()"
   ]
  },
  {
   "cell_type": "code",
   "execution_count": null,
   "metadata": {},
   "outputs": [],
   "source": []
  },
  {
   "cell_type": "markdown",
   "metadata": {},
   "source": [
    "## Calculate possible beta orientations from misorientations between each grain adn its neighbours"
   ]
  },
  {
   "cell_type": "code",
   "execution_count": 4,
   "metadata": {},
   "outputs": [
    {
     "name": "stdout",
     "output_type": "stream",
     "text": [
      " Done 99 %3.76 minutes\n"
     ]
    }
   ],
   "source": [
    "start = time.time()\n",
    "\n",
    "do_reconstruction(EbsdMap, burg_tol=5., ori_tol=3.)\n",
    "\n",
    "end = time.time()\n",
    "print(\"{:.2f} minutes\".format((end - start) / 60))"
   ]
  },
  {
   "cell_type": "code",
   "execution_count": null,
   "metadata": {},
   "outputs": [],
   "source": []
  },
  {
   "cell_type": "code",
   "execution_count": null,
   "metadata": {},
   "outputs": [],
   "source": []
  },
  {
   "cell_type": "markdown",
   "metadata": {},
   "source": [
    "## Look at the data stored for each grain"
   ]
  },
  {
   "cell_type": "code",
   "execution_count": 5,
   "metadata": {},
   "outputs": [
    {
     "data": {
      "text/plain": [
       "<defdap.plotting.MapPlot at 0x1c32e06090>"
      ]
     },
     "execution_count": 5,
     "metadata": {},
     "output_type": "execute_result"
    }
   ],
   "source": [
    "EbsdMap.locateGrainID()"
   ]
  },
  {
   "cell_type": "code",
   "execution_count": 6,
   "metadata": {},
   "outputs": [],
   "source": [
    "grain = EbsdMap[8]"
   ]
  },
  {
   "cell_type": "code",
   "execution_count": 7,
   "metadata": {},
   "outputs": [
    {
     "data": {
      "text/plain": [
       "[[0.8226, -0.0830, -0.2905, 0.4818],\n",
       " [0.1826, -0.8403, -0.3539, 0.3679],\n",
       " [0.5803, -0.5330, -0.3720, 0.4906],\n",
       " [0.4663, -0.2672, -0.0019, -0.8433],\n",
       " [0.3979, -0.3645, 0.8010, -0.2592],\n",
       " [0.0684, 0.0973, -0.8029, -0.5841]]"
      ]
     },
     "execution_count": 7,
     "metadata": {},
     "output_type": "execute_result"
    }
   ],
   "source": [
    "grain.betaOris"
   ]
  },
  {
   "cell_type": "code",
   "execution_count": 8,
   "metadata": {},
   "outputs": [
    {
     "data": {
      "text/plain": [
       "[[[0.8134, -0.1007, -0.3073, 0.4835], [0.3984, -0.3679, 0.8069, -0.2340]],\n",
       " [[0.2483, 0.9227, 0.2552, -0.1481], [0.2999, -0.0815, -0.4747, -0.8234]],\n",
       " [[0.3934, -0.3702, 0.7943, -0.2780], [0.8329, -0.0709, -0.2803, 0.4720]],\n",
       " [[0.2962, -0.0831, -0.4748, -0.8246], [0.2498, 0.9212, 0.2571, -0.1512]],\n",
       " [[0.8227, -0.0917, -0.2903, 0.4801], [0.3919, -0.3654, 0.8051, -0.2543]],\n",
       " [[0.3005, -0.0910, -0.4803, -0.8190], [0.2481, 0.9236, 0.2469, -0.1564]],\n",
       " [[0.3016, -0.0853, -0.4732, -0.8233], [0.2513, 0.9227, 0.2519, -0.1484]],\n",
       " [[0.3126, -0.1069, -0.4705, -0.8182]],\n",
       " [[0.3114, -0.0882, -0.4590, -0.8274], [0.2636, 0.9225, 0.2470, -0.1362]],\n",
       " [[0.3084, -0.0925, -0.4741, -0.8195], [0.2528, 0.9249, 0.2417, -0.1491]],\n",
       " [[0.8161, -0.0872, -0.2991, 0.4867], [0.4033, -0.3629, 0.8025, -0.2481]],\n",
       " [[0.3977, -0.3608, 0.8044, -0.2542], [0.8195, -0.0879, -0.2911, 0.4857]],\n",
       " [[0.3084, -0.1056, -0.4660, -0.8225], [0.2668, 0.9220, 0.2359, -0.1520]],\n",
       " [[0.3085, -0.1047, -0.4699, -0.8204], [0.2627, 0.9231, 0.2350, -0.1537]],\n",
       " [[0.3041, -0.0919, -0.4797, -0.8179], [0.2483, 0.9247, 0.2436, -0.1545]],\n",
       " [[0.8202, -0.0946, -0.2873, 0.4856], [0.3916, -0.3591, 0.8085, -0.2530]],\n",
       " [[0.3005, -0.0939, -0.4824, -0.8174], [0.2476, 0.9239, 0.2443, -0.1593]],\n",
       " [[0.3042, -0.0999, -0.4720, -0.8214], [0.2593, 0.9224, 0.2409, -0.1546]],\n",
       " [[0.3005, -0.0939, -0.4824, -0.8174], [0.2476, 0.9239, 0.2443, -0.1593]],\n",
       " [[0.3094, -0.1195, -0.4583, -0.8246], [0.2804, 0.9193, 0.2284, -0.1550]],\n",
       " [[0.3096, -0.1076, -0.4533, -0.8289], [0.2789, 0.9190, 0.2378, -0.1451]],\n",
       " [[0.3122, -0.1114, -0.4543, -0.8269], [0.2793, 0.9200, 0.2329, -0.1464]],\n",
       " [[0.3113, -0.1025, -0.4589, -0.8259], [0.2710, 0.9215, 0.2379, -0.1444]],\n",
       " [[0.3109, -0.1045, -0.4579, -0.8263], [0.2729, 0.9209, 0.2373, -0.1453]],\n",
       " [[0.3079, -0.1019, -0.4654, -0.8235], [0.2655, 0.9219, 0.2389, -0.1498]],\n",
       " [[0.3138, -0.0971, -0.4534, -0.8286], [0.2726, 0.9213, 0.2412, -0.1367]],\n",
       " [[0.2683, 0.9233, 0.2353, -0.1421], [0.3152, -0.1011, -0.4601, -0.8238]],\n",
       " [[0.3169, -0.1023, -0.4473, -0.8301]],\n",
       " [[0.4041, -0.3690, 0.7908, -0.2741]],\n",
       " [[0.3991, -0.3643, 0.7980, -0.2668]],\n",
       " [[0.3065, -0.0996, -0.4714, -0.8209]],\n",
       " [[0.3065, -0.0996, -0.4714, -0.8209]],\n",
       " [[0.8206, -0.0829, -0.2931, 0.4836], [0.4005, -0.3637, 0.8009, -0.2566]],\n",
       " [[0.3213, -0.0947, -0.4598, -0.8224]],\n",
       " [[0.8208, -0.0839, -0.2928, 0.4833]],\n",
       " [[0.8167, -0.0817, -0.2955, 0.4889]],\n",
       " [[0.8202, -0.0909, -0.2776, 0.4919]],\n",
       " [[0.8131, -0.0907, -0.3020, 0.4893]],\n",
       " [[0.3254, -0.0927, -0.4614, -0.8201], [0.2606, 0.9278, 0.2322, -0.1320]],\n",
       " [[0.8193, -0.0814, -0.2925, 0.4863], [0.4026, -0.3612, 0.8009, -0.2571]],\n",
       " [[0.8208, -0.0749, -0.2897, 0.4866], [0.4050, -0.3602, 0.7981, -0.2633]],\n",
       " [[0.8201, -0.0824, -0.2957, 0.4830], [0.4019, -0.3653, 0.7999, -0.2551]],\n",
       " [[0.3952, -0.3609, 0.8008, -0.2687], [0.8259, -0.0790, -0.2814, 0.4821]],\n",
       " [[0.3111, -0.0895, -0.4694, -0.8215], [0.2549, 0.9249, 0.2431, -0.1431]],\n",
       " [[0.3998, -0.3650, 0.7959, -0.2710], [0.8268, -0.0722, -0.2850, 0.4796]],\n",
       " [[0.2988, -0.0825, -0.4850, -0.8177], [0.2397, 0.9247, 0.2520, -0.1552]],\n",
       " [[0.2971, -0.1054, -0.4867, -0.8147], [0.2502, 0.9229, 0.2380, -0.1704]],\n",
       " [[0.3020, -0.0775, -0.4787, -0.8207], [0.2422, 0.9246, 0.2548, -0.1468]],\n",
       " [[0.3153, -0.1095, -0.4586, -0.8236]],\n",
       " [[0.3176, -0.0911, -0.4542, -0.8274]],\n",
       " [[0.3961, -0.3655, 0.8028, -0.2550]],\n",
       " [[0.3268, -0.1056, -0.4446, -0.8273]],\n",
       " [[0.3096, -0.1110, -0.4554, -0.8273]],\n",
       " [[0.4025, -0.3686, 0.8027, -0.2404]],\n",
       " [[0.3097, -0.1026, -0.4468, -0.8330]],\n",
       " [[0.8330, -0.0692, -0.2796, 0.4723]]]"
      ]
     },
     "execution_count": 8,
     "metadata": {},
     "output_type": "execute_result"
    }
   ],
   "source": [
    "grain.possibleBetaOris"
   ]
  },
  {
   "cell_type": "code",
   "execution_count": 9,
   "metadata": {},
   "outputs": [
    {
     "data": {
      "text/plain": [
       "array([3.83572963, 4.10000054, 4.2009164 , 4.20035926, 0.99954059,\n",
       "       3.30822677, 3.38247078, 3.41887741, 2.69137772, 2.70480538,\n",
       "       0.83630896, 0.75989446, 2.47811833, 2.71362684, 3.18845622,\n",
       "       1.28800042, 3.62070255, 2.60705801, 3.19543254, 1.19537458,\n",
       "       0.69126409, 0.54919711, 0.79435382, 0.65064293, 1.50882467,\n",
       "       1.168161  , 2.13098647, 1.60098689, 2.67826334, 2.83496826,\n",
       "       2.51133107, 3.62638061, 2.46810384, 0.80230785, 3.19859526,\n",
       "       4.19370934, 3.27004932, 3.90097166, 2.26971135, 2.00137583,\n",
       "       2.60748392, 3.24579266, 1.66761906, 1.95919824, 3.10854725,\n",
       "       4.94408628, 3.64661231, 4.28921174, 3.08690819, 3.12241564,\n",
       "       2.31075372, 3.29073666, 0.79202856, 2.16887027, 2.17198667,\n",
       "       4.03221838])"
      ]
     },
     "execution_count": 9,
     "metadata": {},
     "output_type": "execute_result"
    }
   ],
   "source": [
    "np.array(grain.betaDeviations) *180 /np.pi"
   ]
  },
  {
   "cell_type": "code",
   "execution_count": 10,
   "metadata": {},
   "outputs": [
    {
     "data": {
      "text/plain": [
       "[42, 0, 0, 0, 51, 0]"
      ]
     },
     "execution_count": 10,
     "metadata": {},
     "output_type": "execute_result"
    }
   ],
   "source": [
    "grain.variantCount"
   ]
  },
  {
   "cell_type": "markdown",
   "metadata": {},
   "source": [
    "burgers tol for each variant count - this will have to wait until we rewrtite the variant counting code"
   ]
  },
  {
   "cell_type": "code",
   "execution_count": 11,
   "metadata": {},
   "outputs": [],
   "source": [
    "possibleBetaOris = [item for sublist in grain.possibleBetaOris for item in sublist]\n",
    "\n",
    "directions = [\n",
    "    np.array([1,0,0]), \n",
    "    np.array([0,1,0]), \n",
    "    np.array([0,0,1])\n",
    "]\n",
    "markerSize = 100\n",
    "\n",
    "fig, axes = plt.subplots(1, len(directions))\n",
    "\n",
    "for direction, ax in zip(directions, axes):\n",
    "    plot = Quat.plotIPF(grain.betaOris, direction, \"cubic\", marker='o', s=markerSize, fig=fig, ax=ax)\n",
    "    Quat.plotIPF(possibleBetaOris, direction, \"cubic\", s=markerSize, plot=plot)\n",
    "\n",
    "fig.tight_layout()"
   ]
  },
  {
   "cell_type": "markdown",
   "metadata": {},
   "source": [
    "## Find the most common variant for each grain and set this as the beta orientaion"
   ]
  },
  {
   "cell_type": "code",
   "execution_count": 12,
   "metadata": {},
   "outputs": [],
   "source": [
    "modeVariants = []\n",
    "parentBetaOris = []\n",
    "\n",
    "for grain in EbsdMap:\n",
    "#     modeVariant = np.argmax(grain.variantCount)\n",
    "#     parentBetaOri = grain.betaOris[modeVariant]\n",
    "    \n",
    "    variantCount = np.array(grain.variantCount)\n",
    "    # argmax would only pass one value if multiple variants have the same number of counts\n",
    "    modeVariant = np.where(variantCount == np.max(variantCount))[0]\n",
    "    if len(modeVariant) == 1:\n",
    "        modeVariant = modeVariant[0]\n",
    "        parentBetaOri = grain.betaOris[modeVariant]\n",
    "    else:\n",
    "        # multiple variants with same max\n",
    "        modeVariant = -1\n",
    "        parentBetaOri = Quat(1., 0., 0., 0.)\n",
    "    \n",
    "    modeVariants.append(modeVariant)\n",
    "    grain.modeVariant = modeVariant\n",
    "    parentBetaOris.append(parentBetaOri)\n",
    "    grain.parentBetaOri = parentBetaOri"
   ]
  },
  {
   "cell_type": "markdown",
   "metadata": {},
   "source": [
    "## Plot"
   ]
  },
  {
   "cell_type": "markdown",
   "metadata": {},
   "source": [
    "### Vaiant number "
   ]
  },
  {
   "cell_type": "code",
   "execution_count": 13,
   "metadata": {},
   "outputs": [],
   "source": [
    "plot = EbsdMap.plotGrainDataMap(grainData=modeVariants, vmin=-1, vmax=5, cmap=\"Set1\")\n",
    "plot.addColourBar(\"mode variant\")"
   ]
  },
  {
   "cell_type": "markdown",
   "metadata": {},
   "source": [
    "### IPF of grains filled with average orientation"
   ]
  },
  {
   "cell_type": "code",
   "execution_count": 18,
   "metadata": {},
   "outputs": [],
   "source": [
    "directions = [\n",
    "    np.array([1,0,0]),\n",
    "    np.array([0,1,0]),\n",
    "    np.array([0,0,1])\n",
    "]\n",
    "\n",
    "fig, axes = plt.subplots(1, len(directions), figsize=(15,5))\n",
    "\n",
    "for ax, direction in zip(axes, directions):\n",
    "    betaGrainIPFColours = Quat.calcIPFcolours(parentBetaOris, direction, \"cubic\")\n",
    "\n",
    "    EbsdMap.plotGrainDataMap(grainData=betaGrainIPFColours, fig=fig, ax=ax)\n",
    "    \n",
    "fig.tight_layout()"
   ]
  },
  {
   "cell_type": "markdown",
   "metadata": {},
   "source": [
    "### Calculate and then plot beta orientation map"
   ]
  },
  {
   "cell_type": "code",
   "execution_count": 15,
   "metadata": {},
   "outputs": [],
   "source": [
    "from beta_reconstruction.crystal_relations import unq_hex_syms, burg_trans\n",
    "\n",
    "transformations = []\n",
    "for sym in unq_hex_syms:\n",
    "    transformations.append(burg_trans * sym.conjugate)\n",
    "    \n",
    "variantMap = EbsdMap.grainDataToMapData(modeVariants, bg=-2)\n",
    "    \n",
    "betaQuatArray = np.empty_like(EbsdMap.quatArray)\n",
    "for i in range(EbsdMap.yDim):\n",
    "    for j in range(EbsdMap.xDim):\n",
    "        variant = variantMap[i, j]\n",
    "        if variant < 0:\n",
    "            # points not part of a grain (-2) and \n",
    "            # those that were not reconstructed (-1)\n",
    "            betaQuatArray[i, j] = Quat(1, 0, 0, 0)\n",
    "        else:\n",
    "#             betaQuatArray[i, j] = burg_trans * unq_hex_syms[variant].conjugate * EbsdMap.quatArray[i, j]\n",
    "            betaQuatArray[i, j] = transformations[variant] * EbsdMap.quatArray[i, j]"
   ]
  },
  {
   "cell_type": "code",
   "execution_count": 17,
   "metadata": {},
   "outputs": [],
   "source": [
    "directions = [\n",
    "    np.array([1,0,0]),\n",
    "    np.array([0,1,0]),\n",
    "    np.array([0,0,1])\n",
    "]\n",
    "\n",
    "fig, axes = plt.subplots(1, len(directions), figsize=(15,5))\n",
    "\n",
    "for ax, direction in zip(axes, directions):\n",
    "    betaIPFColours = Quat.calcIPFcolours(betaQuatArray.flatten(), direction, \"cubic\")\n",
    "    # reshape back to map shape array\n",
    "    betaIPFColours = np.reshape(betaIPFColours, (EbsdMap.yDim, EbsdMap.xDim, 3))\n",
    "    \n",
    "    # recolour the -1 and -2 variants\n",
    "    # -1 grains not reconstructed (white)\n",
    "    # -2 clusters too small to be a grain (black)\n",
    "    indxs = np.where(variantMap == -1)\n",
    "    betaIPFColours[indxs[0], indxs[1]] = np.array([1, 1, 1])\n",
    "    indxs = np.where(variantMap == -2)\n",
    "    betaIPFColours[indxs[0], indxs[1]] = np.array([0, 0, 0])\n",
    "    \n",
    "    plot = MapPlot.create(EbsdMap, betaIPFColours, fig=fig, ax=ax)\n",
    "    \n",
    "fig.tight_layout()"
   ]
  },
  {
   "cell_type": "code",
   "execution_count": null,
   "metadata": {},
   "outputs": [],
   "source": []
  },
  {
   "cell_type": "code",
   "execution_count": null,
   "metadata": {},
   "outputs": [],
   "source": []
  },
  {
   "cell_type": "code",
   "execution_count": null,
   "metadata": {},
   "outputs": [],
   "source": []
  }
 ],
 "metadata": {
  "kernelspec": {
   "display_name": "Python 3",
   "language": "python",
   "name": "python3"
  },
  "language_info": {
   "codemirror_mode": {
    "name": "ipython",
    "version": 3
   },
   "file_extension": ".py",
   "mimetype": "text/x-python",
   "name": "python",
   "nbconvert_exporter": "python",
   "pygments_lexer": "ipython3",
   "version": "3.7.6"
  }
 },
 "nbformat": 4,
 "nbformat_minor": 4
}
